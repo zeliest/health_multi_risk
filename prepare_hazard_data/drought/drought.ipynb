{
 "cells": [
  {
   "cell_type": "code",
   "execution_count": 2,
   "id": "f2416514-0f6a-4e31-8ae6-0cbfdf157a83",
   "metadata": {},
   "outputs": [],
   "source": [
    "from climada.hazard import Hazard\n",
    "import xarray as xr\n",
    "import numpy as np\n",
    "from pathlib import Path\n",
    "import sys\n",
    "sys.path.insert(0, '../..')\n",
    "from util import DATA_DIR\n",
    "\n",
    "\n",
    "file = DATA_DIR / \"hazard_input_data/drought/spei03.nc\"\n",
    "spei = xr.open_dataset(file)\n",
    "spei = spei.rename({'lon': 'longitude', 'lat':'latitude'})\n",
    "\n",
    "unique_years = np.arange(2003,2023)\n",
    "\n",
    "for year in unique_years:\n",
    "    spei_year = spei.sel(time=str(year))\n",
    "    spei_year.to_netcdf(DATA_DIR / f\"hazard_input_data/drought/spei03_{year}.nc\")"
   ]
  }
 ],
 "metadata": {
  "kernelspec": {
   "display_name": "Python 3 (ipykernel)",
   "language": "python",
   "name": "python3"
  },
  "language_info": {
   "codemirror_mode": {
    "name": "ipython",
    "version": 3
   },
   "file_extension": ".py",
   "mimetype": "text/x-python",
   "name": "python",
   "nbconvert_exporter": "python",
   "pygments_lexer": "ipython3",
   "version": "3.11.6"
  }
 },
 "nbformat": 4,
 "nbformat_minor": 5
}
