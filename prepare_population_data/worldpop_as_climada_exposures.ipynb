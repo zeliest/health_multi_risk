{
 "cells": [
  {
   "cell_type": "code",
   "execution_count": 2,
   "id": "5c1924ce-3584-4681-972c-99c5c001d33c",
   "metadata": {},
   "outputs": [],
   "source": [
    "import sys\n",
    "sys.path.insert(0, '..')\n",
    "sys.path.insert(0, '../exposure_to_hazards/')\n",
    "\n",
    "from config import DATA_DIR"
   ]
  },
  {
   "cell_type": "code",
   "execution_count": 3,
   "id": "940f9851-822e-4319-9038-e0450d64356a",
   "metadata": {},
   "outputs": [],
   "source": [
    "from climada.entity import Exposures"
   ]
  },
  {
   "cell_type": "code",
   "execution_count": 4,
   "id": "27bb95fe-67c2-41a7-a2be-f71f8028179c",
   "metadata": {},
   "outputs": [],
   "source": [
    "import xarray as xr\n",
    "from pathlib import Path\n"
   ]
  },
  {
   "cell_type": "code",
   "execution_count": 5,
   "id": "add425ac-07f6-41e5-8879-24ba76d03965",
   "metadata": {},
   "outputs": [],
   "source": [
    "path_worldpop = DATA_DIR / \"population/worldpop\"\n"
   ]
  },
  {
   "cell_type": "code",
   "execution_count": 6,
   "id": "6c04b14e-1430-4e11-86de-07f2d84fbacc",
   "metadata": {},
   "outputs": [],
   "source": [
    "import numpy as np\n",
    "dataset_list = [xr.open_dataset(path_worldpop / f\"era5_compatible/all_{str(year)}_era5_compatible.nc\") for year in np.arange(2000,2020)]\n",
    "ds = xr.concat(dataset_list, dim='time')\n",
    "ds = ds.where(ds != np.inf, 0)\n",
    "ds = ds.where(ds<3.1e8, 0)"
   ]
  },
  {
   "cell_type": "code",
   "execution_count": 7,
   "id": "ad85c416-cb73-4ba7-aef4-47f01b8264ed",
   "metadata": {},
   "outputs": [],
   "source": [
    "# extrapolate above 2020"
   ]
  },
  {
   "cell_type": "code",
   "execution_count": 9,
   "id": "aec2cd1d-728d-48c4-b439-a577bba679c6",
   "metadata": {},
   "outputs": [],
   "source": [
    "import pandas as pd\n",
    "import xarray as xr\n",
    "import numpy as np\n",
    "\n",
    "ds['time'] = xr.cftime_range(start='2000', periods=len(ds['time']), freq='AS')\n",
    "\n",
    "# Exclude the value for the year 2020\n",
    "ds = ds.sel(time=ds.time.dt.year != 2020)\n",
    "\n",
    "# Extend the time range to include up to the year 2023\n",
    "# Note: 'periods' should be the number of years from the start year to 2023\n",
    "new_time = xr.cftime_range(start=ds.time.values[0], periods=(2023-2000)+1, freq='AS')\n",
    "\n",
    "# Perform interpolation\n",
    "ds_interpolated = ds.interp(time=new_time, method='linear', kwargs={\"fill_value\": \"extrapolate\"})\n",
    "ds_interpolated = ds_interpolated.where(ds_interpolated >= 0, 0)\n",
    "for time in np.arange(0,24):\n",
    "    df = ds_interpolated.isel(time=time).to_dataframe().reset_index().drop(columns=['time'])\n",
    "    exposures= Exposures()\n",
    "    df = df.rename(columns={\"pop\":\"value\"})\n",
    "    exposures.gdf = df\n",
    "    exposures.write_hdf5(path_worldpop / f\"climada_exposures/all_era5_025_compatible_{str(time+2000)}.hdf5\")\n",
    "ds_interpolated.to_netcdf(path_worldpop / 'era5_compatible/worldpop_all_2000_2023_era5_compatible.nc')\n"
   ]
  },
  {
   "cell_type": "code",
   "execution_count": null,
   "id": "dc99ea2f-5a28-4bb9-a983-89343c1674b1",
   "metadata": {},
   "outputs": [],
   "source": [
    "##same thing for other age categories"
   ]
  },
  {
   "cell_type": "code",
   "execution_count": 11,
   "id": "e9833ccf-24bd-4dfe-9327-932f659cb5e3",
   "metadata": {},
   "outputs": [],
   "source": [
    "import pandas as pd\n",
    "import xarray as xr\n",
    "import numpy as np\n",
    "\n",
    "for sex in [\"m\",\"f\"]:\n",
    "    for age in [\"0_1\",\"65_70_75_80\"]:\n",
    "        dataset_list = [xr.open_dataset(path_worldpop / f\"era5_compatible/{sex}_{age}_{str(year)}_era5_compatible.nc\") for year in np.arange(2000,2020)]\n",
    "        ds = xr.concat(dataset_list, dim='time')\n",
    "        ds = ds.where(ds != np.inf, 0)\n",
    "        ds = ds.where(ds<3.1e8, 0)\n",
    "       \n",
    "        # Ensure time coordinate is properly parsed as datetime objects\n",
    "        ds['time'] = xr.cftime_range(start='2000', periods=len(ds['time']), freq='AS')\n",
    "\n",
    "        # Exclude the value for the year 2020\n",
    "        ds = ds.sel(time=ds.time.dt.year != 2020)\n",
    "\n",
    "        # Extend the time range to include up to the year 2023\n",
    "        # Note: 'periods' should be the number of years from the start year to 2023\n",
    "        new_time = xr.cftime_range(start=ds.time.values[0], periods=(2023-2000)+1, freq='AS')\n",
    "\n",
    "        # Perform interpolation\n",
    "        ds_interpolated = ds.interp(time=new_time, method='linear', kwargs={\"fill_value\": \"extrapolate\"})\n",
    "        ds_interpolated = ds_interpolated.where(ds_interpolated >= 0, 0)\n",
    "        for time in np.arange(0,24):\n",
    "            df = ds_interpolated.isel(time=time).to_dataframe().reset_index().drop(columns=['time'])\n",
    "            exposures= Exposures()\n",
    "            df = df.rename(columns={\"pop\":\"value\"})\n",
    "            exposures.gdf = df\n",
    "            exposures.write_hdf5(path_worldpop / f\"climada_exposures/{sex}_{age}_era5_025_compatible_{str(time+2000)}.hdf5\")"
   ]
  },
  {
   "cell_type": "code",
   "execution_count": null,
   "id": "c6446b7c-8ce1-4043-8f2e-aacede282867",
   "metadata": {},
   "outputs": [],
   "source": [
    "# we merge both sexes for each age category"
   ]
  },
  {
   "cell_type": "code",
   "execution_count": 12,
   "id": "310e29d5-1c82-431e-a23e-5b1e8626676b",
   "metadata": {},
   "outputs": [],
   "source": [
    "from pathlib import Path\n",
    "import numpy as np\n",
    "age = \"0_1\"\n",
    "for year in np.arange(2003,2023):\n",
    "    exp = Exposures.from_hdf5(path_worldpop / f\"climada_exposures/f_{age}_era5_025_compatible_{year}.hdf5\")\n",
    "    exp2 = Exposures.from_hdf5(path_worldpop / f\"climada_exposures/m_{age}_era5_025_compatible_{year}.hdf5\")\n",
    "    exp.gdf.value =exp2.gdf.value + exp.gdf.value\n",
    "    exp.write_hdf5(path_worldpop / f\"climada_exposures/{age}_era5_025_compatible_{year}.hdf5\")\n",
    "    \n",
    "    "
   ]
  },
  {
   "cell_type": "code",
   "execution_count": 13,
   "id": "595347dd-8487-40f8-af1d-ae7bd220b491",
   "metadata": {},
   "outputs": [],
   "source": [
    "from pathlib import Path\n",
    "import numpy as np\n",
    "age = \"65_70_75_80\"\n",
    "for year in np.arange(2003,2023):\n",
    "    exp = Exposures.from_hdf5(path_worldpop / f\"climada_exposures/f_{age}_era5_025_compatible_{year}.hdf5\")\n",
    "    exp2 = Exposures.from_hdf5(path_worldpop / f\"climada_exposures/m_{age}_era5_025_compatible_{year}.hdf5\")\n",
    "    exp.gdf.value =exp2.gdf.value + exp.gdf.value\n",
    "    exp.write_hdf5(path_worldpop / f\"climada_exposures/{age}_era5_025_compatible_{year}.hdf5\")\n",
    "    \n",
    "    "
   ]
  }
 ],
 "metadata": {
  "kernelspec": {
   "display_name": "Python 3 (ipykernel)",
   "language": "python",
   "name": "python3"
  },
  "language_info": {
   "codemirror_mode": {
    "name": "ipython",
    "version": 3
   },
   "file_extension": ".py",
   "mimetype": "text/x-python",
   "name": "python",
   "nbconvert_exporter": "python",
   "pygments_lexer": "ipython3",
   "version": "3.11.6"
  }
 },
 "nbformat": 4,
 "nbformat_minor": 5
}
