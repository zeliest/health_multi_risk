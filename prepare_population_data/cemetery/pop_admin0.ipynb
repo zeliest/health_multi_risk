{
 "cells": [
  {
   "cell_type": "code",
   "execution_count": null,
   "id": "effbad2e-e88a-44b2-8bc1-ecced6c3970a",
   "metadata": {},
   "outputs": [],
   "source": [
    "# let's calculate "
   ]
  },
  {
   "cell_type": "code",
   "execution_count": 2,
   "id": "3a14303b-45b0-482b-941a-09954d54ad71",
   "metadata": {},
   "outputs": [],
   "source": [
    "from pathlib import Path\n",
    "from climada.entity import Exposures\n",
    "import numpy as np\n",
    "exposures_dict = {}\n",
    "path_exposures = Path(\"/nfs/n2o/wcr/szelie/worldpop/climada_exposures\")\n",
    "\n",
    "exposures_dict = {}\n",
    "for year in np.arange(2003, 2023):\n",
    "    year = str(year)\n",
    "    exposures_dict[year]= Exposures.from_hdf5(path_exposures / f\"global_era5_025_compatible_{year}.hdf5\")\n",
    "    exposures_dict[year].gdf[\"impf_cs\"] = 1 \n",
    "    exposures_dict[year].gdf['longitude'] = exposures_dict[year].gdf['longitude'].apply(lambda x: x - 360 if x > 180 else x)\n",
    "    exposures_dict[year].gdf['value'][exposures_dict[year].gdf['value']<0] = 0\n"
   ]
  },
  {
   "cell_type": "code",
   "execution_count": 3,
   "id": "525d026f-601f-4eea-97e2-10aaa8eaeedf",
   "metadata": {},
   "outputs": [],
   "source": [
    "import geopandas as gpd\n",
    "from shapely.geometry import Point\n",
    "\n",
    "\n",
    "gdf_countries = gpd.read_file(\"/nfs/n2o/wcr/szelie/lancet/admin_boundaries/Detailed_Boundary_ADM0\")\n",
    "\n",
    "geometry = [Point(xy) for xy in zip(exposures_dict[year].gdf.longitude, exposures_dict[year].gdf.latitude)]\n",
    "\n",
    "gdf = gpd.GeoDataFrame(exposures_dict[year].gdf, crs=\"EPSG:4326\", geometry=geometry)\n",
    "\n",
    "gdf = gpd.sjoin(gdf, gdf_countries, how=\"left\", predicate='within')"
   ]
  },
  {
   "cell_type": "code",
   "execution_count": 4,
   "id": "bd3bb936-8d90-4514-998d-0b9db5803c6e",
   "metadata": {},
   "outputs": [],
   "source": [
    "total_pop_by_year = []\n",
    "for year in np.arange(2003, 2023):\n",
    "    exposures_dict[str(year)].gdf[\"ISO_3_CODE\"] = gdf[\"ISO_3_CODE\"]\n",
    "    gdf_year = exposures_dict[str(year)].gdf[['value','ISO_3_CODE']].groupby('ISO_3_CODE').sum()\n",
    "    gdf_year['year'] = year\n",
    "    total_pop_by_year.append(gdf_year)\n"
   ]
  },
  {
   "cell_type": "code",
   "execution_count": 5,
   "id": "2e1d1eeb-a669-4eaa-a3d1-28d3793cd2f1",
   "metadata": {},
   "outputs": [],
   "source": [
    "import pandas as pd\n",
    "pop_by_country_by_year = pd.concat(total_pop_by_year).reset_index()"
   ]
  },
  {
   "cell_type": "code",
   "execution_count": 6,
   "id": "f1ea741a-6e87-4e39-afb6-060760f67ab5",
   "metadata": {},
   "outputs": [],
   "source": [
    "pop_by_country_by_year.to_csv(\"/nfs/n2o/wcr/szelie/health_multi_risk_data/population/worldpop_by_country_by_year_2000_2022.csv\")"
   ]
  }
 ],
 "metadata": {
  "kernelspec": {
   "display_name": "Python 3 (ipykernel)",
   "language": "python",
   "name": "python3"
  },
  "language_info": {
   "codemirror_mode": {
    "name": "ipython",
    "version": 3
   },
   "file_extension": ".py",
   "mimetype": "text/x-python",
   "name": "python",
   "nbconvert_exporter": "python",
   "pygments_lexer": "ipython3",
   "version": "3.11.6"
  }
 },
 "nbformat": 4,
 "nbformat_minor": 5
}
