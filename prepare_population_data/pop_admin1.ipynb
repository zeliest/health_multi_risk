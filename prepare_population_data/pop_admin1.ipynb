{
 "cells": [
  {
   "cell_type": "code",
   "execution_count": 1,
   "id": "a3c63ace-cea2-4a8f-871d-69baa2d51ada",
   "metadata": {},
   "outputs": [],
   "source": [
    "import sys\n",
    "sys.path.insert(0, '..')\n",
    "sys.path.insert(0, '../exposure_to_hazards/')\n",
    "\n",
    "from config import DATA_DIR"
   ]
  },
  {
   "cell_type": "code",
   "execution_count": 2,
   "id": "3a14303b-45b0-482b-941a-09954d54ad71",
   "metadata": {
    "tags": []
   },
   "outputs": [],
   "source": [
    "from pathlib import Path\n",
    "from climada.entity import Exposures\n",
    "import numpy as np\n",
    "import pandas as pd\n",
    "\n",
    "exposures_dict = {}\n",
    "path_population_files = DATA_DIR / \"population\"\n",
    "\n",
    "path_exposures = path_population_files / \"worldpop/climada_exposures\"\n",
    "\n",
    "exposures_dict = {}\n",
    "for age in [\"0_1\", \"all\", \"65_70_75_80\"]:\n",
    "    exposures_dict[age]= {}\n",
    "\n",
    "    for year in np.arange(2003, 2023):\n",
    "        year = str(year)\n",
    "        exposures_dict[age][year]= Exposures.from_hdf5(path_exposures / f\"{age}_era5_025_compatible_{year}.hdf5\")\n",
    "        exposures_dict[age][year].gdf[\"impf_cs\"] = 1 \n",
    "        exposures_dict[age][year].gdf['longitude'] = exposures_dict[age][year].gdf['longitude'].apply(lambda x: x - 360 if x > 180 else x)\n",
    "        exposures_dict[age][year].gdf['value'][exposures_dict[age][year].gdf['value']<0] = 0\n"
   ]
  },
  {
   "cell_type": "code",
   "execution_count": 3,
   "id": "fb07a049-fb75-4494-9449-eae6b49f2600",
   "metadata": {},
   "outputs": [],
   "source": [
    "#  1. merge exposure gdf with adm1 for any age any year (we just need the lat/lon points by admin1)"
   ]
  },
  {
   "cell_type": "code",
   "execution_count": 4,
   "id": "525d026f-601f-4eea-97e2-10aaa8eaeedf",
   "metadata": {
    "tags": []
   },
   "outputs": [],
   "source": [
    "import geopandas as gpd\n",
    "from shapely.geometry import Point\n",
    "\n",
    "\n",
    "gdf_adm1 = gpd.read_file(path_population_files / \"geoBoundariesCGAZ_ADM1/geoBoundariesCGAZ_ADM1.shp\")\n",
    "gdf_adm1 = gdf_adm1.to_crs(\"EPSG:4326\")\n",
    "gdf_adm1 =  gdf_adm1[gdf_adm1['shapeType']=='ADM1']\n",
    "\n",
    "gdf_adm1 = gdf_adm1.rename(columns={'shapeGroup':'ISO3', 'shapeName':'ADM1_NAME', 'shapeID': 'ADM1_ID'})\n",
    "gdf_adm1.to_file(path_population_files / \"geoBoundariesCGAZ_ADM1_renamed/geoBoundariesCGAZ_ADM1.shp\")\n",
    "\n",
    "geometry = [Point(xy) for xy in zip(exposures_dict[age][str(year)].gdf.longitude, exposures_dict[age][str(year)].gdf.latitude)]\n",
    "\n",
    "gdf = gpd.GeoDataFrame(exposures_dict[age][str(year)].gdf, crs=\"EPSG:4326\", geometry=geometry)\n",
    "gdf = gpd.sjoin(gdf, gdf_adm1, how=\"left\", predicate='within')\n"
   ]
  },
  {
   "cell_type": "code",
   "execution_count": 5,
   "id": "102be912-7979-46d0-b7a6-505193175b4c",
   "metadata": {
    "tags": []
   },
   "outputs": [],
   "source": [
    "import pandas as pd\n",
    "geometry = [Point(xy) for xy in zip(exposures_dict[age][str(year)].gdf.longitude, exposures_dict[age][str(year)].gdf.latitude)]\n",
    "\n",
    "for age in ['all', '0_1', '65_70_75_80']:\n",
    "    gdf = gpd.GeoDataFrame(exposures_dict[age][str(year)].gdf, crs=\"EPSG:4326\", geometry=geometry)\n",
    "    merged = gpd.sjoin(gdf, gdf_adm1, how=\"left\", predicate='within')\n",
    "    merged = merged.drop_duplicates(subset=['latitude', 'longitude'], keep='first')\n",
    "    merged.to_csv(path_population_files / f\"{age}_worldpop_admin_by_point.csv\")"
   ]
  },
  {
   "cell_type": "code",
   "execution_count": 6,
   "id": "89221e1b-65d3-492e-9638-ffae3cd542a0",
   "metadata": {},
   "outputs": [],
   "source": [
    "# population by admin1 by year"
   ]
  },
  {
   "cell_type": "code",
   "execution_count": 9,
   "id": "bd3bb936-8d90-4514-998d-0b9db5803c6e",
   "metadata": {},
   "outputs": [],
   "source": [
    "geometry = [Point(xy) for xy in zip(exposures_dict[age][str(year)].gdf.longitude, exposures_dict[age][str(year)].gdf.latitude)]\n",
    "\n",
    "pop_by_adm1_by_year = {}\n",
    "for age in ['all', '65_70_75_80', '0_1']:\n",
    "    total_pop_by_year = []\n",
    "    for year in np.arange(2003, 2022):\n",
    "        gdf = gpd.GeoDataFrame(exposures_dict[age][str(year)].gdf, crs=\"EPSG:4326\", geometry=geometry)\n",
    "        gdf = gpd.sjoin(gdf, gdf_adm1, how=\"left\", predicate='within')\n",
    "\n",
    "        merged = pd.merge(exposures_dict[age][str(year)].gdf, gdf)\n",
    "        merged = merged[['value','ADM1_ID','ISO3','ADM1_NAME']].groupby(['ADM1_ID','ISO3', 'ADM1_NAME']).sum()\n",
    "        merged['year'] = year\n",
    "        total_pop_by_year.append(merged)\n",
    "    pop_by_adm1_by_year[age] = pd.concat(total_pop_by_year).reset_index()\n",
    "    pop_by_adm1_by_year[age].to_csv(path_population_files / f\"{age}_worldpop_by_admin1_by_year_2000_2022.csv\")\n",
    "    "
   ]
  },
  {
   "cell_type": "code",
   "execution_count": 20,
   "id": "e5bda1db-c8f0-4ea7-a5a0-af1525fc6f86",
   "metadata": {},
   "outputs": [
    {
     "data": {
      "text/plain": [
       "0.08643703464341572"
      ]
     },
     "execution_count": 20,
     "metadata": {},
     "output_type": "execute_result"
    }
   ],
   "source": [
    "exposures_dict['0_1'][str(2021)].gdf.value.sum()/exposures_dict['all'][str(2021)].gdf.value.sum()"
   ]
  }
 ],
 "metadata": {
  "kernelspec": {
   "display_name": "Python 3 (ipykernel)",
   "language": "python",
   "name": "python3"
  },
  "language_info": {
   "codemirror_mode": {
    "name": "ipython",
    "version": 3
   },
   "file_extension": ".py",
   "mimetype": "text/x-python",
   "name": "python",
   "nbconvert_exporter": "python",
   "pygments_lexer": "ipython3",
   "version": "3.11.6"
  }
 },
 "nbformat": 4,
 "nbformat_minor": 5
}
