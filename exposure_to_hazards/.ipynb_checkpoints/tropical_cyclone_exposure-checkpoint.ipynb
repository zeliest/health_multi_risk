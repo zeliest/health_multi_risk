{
 "cells": [
  {
   "cell_type": "raw",
   "id": "83fc6ab2-fdbc-4dad-959c-7f8139ab6baf",
   "metadata": {},
   "source": [
    "MAX_YEAR = 2022"
   ]
  },
  {
   "cell_type": "code",
   "execution_count": 10,
   "id": "fe7fb363-191e-43f7-89fc-9d4c8af53f46",
   "metadata": {
    "scrolled": true
   },
   "outputs": [],
   "source": [
    "import pandas as pd\n",
    "import numpy as np\n",
    "from climada.hazard import Hazard\n",
    "import xarray as xr\n",
    "from pathlib import Path\n",
    "haz = []\n",
    "dir = Path(\"/Users/szelie/OneDrive - ETH Zurich/data/health_multi_risk_data/hazards/tropical_cyclone/0synth_tracks\")\n",
    "for basin in ['EP','NA','NI','SA','SI','SP','WP']:\n",
    "    haz.append(Hazard.from_hdf5(dir / basin / 'historical' / f'tropical_cyclone_0synth_tracks_150arcsec_genesis_{basin}_1980_2022.hdf5'))\n",
    "tc_hazard = Hazard.concat(haz)\n",
    "\n",
    "yearly_hazards = {}\n",
    "for year in np.arange(2003,2022):\n",
    "    yearly_hazards[year] = tc_hazard.select(date=[f'{year}-01-01', f'{year}-12-31'])"
   ]
  },
  {
   "cell_type": "code",
   "execution_count": 24,
   "id": "72996bf3-1ad7-4d2c-850a-7e3d28e2e269",
   "metadata": {},
   "outputs": [
    {
     "data": {
      "text/plain": [
       "{2000: <climada.hazard.base.Hazard at 0x195c59bd0>,\n",
       " 2001: <climada.hazard.base.Hazard at 0x1977c0fd0>,\n",
       " 2002: <climada.hazard.base.Hazard at 0x1977d1850>,\n",
       " 2003: <climada.hazard.base.Hazard at 0x194b9e610>,\n",
       " 2004: <climada.hazard.base.Hazard at 0x1977d1650>,\n",
       " 2005: <climada.hazard.base.Hazard at 0x19766bad0>,\n",
       " 2006: <climada.hazard.base.Hazard at 0x19766b350>,\n",
       " 2007: <climada.hazard.base.Hazard at 0x197822ed0>,\n",
       " 2008: <climada.hazard.base.Hazard at 0x197823390>,\n",
       " 2009: <climada.hazard.base.Hazard at 0x197823850>,\n",
       " 2010: <climada.hazard.base.Hazard at 0x197823cd0>,\n",
       " 2011: <climada.hazard.base.Hazard at 0x197823e10>,\n",
       " 2012: <climada.hazard.base.Hazard at 0x197822a10>,\n",
       " 2013: <climada.hazard.base.Hazard at 0x197822550>,\n",
       " 2014: <climada.hazard.base.Hazard at 0x197823e90>,\n",
       " 2015: <climada.hazard.base.Hazard at 0x197811390>,\n",
       " 2016: <climada.hazard.base.Hazard at 0x197811850>,\n",
       " 2017: <climada.hazard.base.Hazard at 0x197811cd0>,\n",
       " 2018: <climada.hazard.base.Hazard at 0x197812150>,\n",
       " 2019: <climada.hazard.base.Hazard at 0x197812610>,\n",
       " 2020: <climada.hazard.base.Hazard at 0x197823010>,\n",
       " 2021: <climada.hazard.base.Hazard at 0x197823450>}"
      ]
     },
     "execution_count": 24,
     "metadata": {},
     "output_type": "execute_result"
    }
   ],
   "source": [
    "yearly_hazards"
   ]
  },
  {
   "cell_type": "code",
   "execution_count": 5,
   "id": "36dcb9b8-9445-4198-be9a-67fdb74e9a56",
   "metadata": {},
   "outputs": [],
   "source": [
    "from pathlib import Path\n",
    "from climada.entity import Exposures\n",
    "import numpy as np\n",
    "exposures_dict = {}\n",
    "path_exposures = Path(\"/Users/szelie/OneDrive - ETH Zurich/data/health_multi_risk_data/exposures\")\n",
    "\n",
    "\n",
    "for age in ['0_1']:#,'65_70_75_80','all']:\n",
    "    exposures_dict[age] = {}\n",
    "    for year in np.arange(2003, 2023):\n",
    "        year = str(year)\n",
    "        exposures_dict[age][year] = Exposures.from_hdf5(path_exposures / f\"{age}_era5_025_compatible_{year}.hdf5\")\n",
    "        exposures_dict[age][year].gdf[\"impf_TC\"] = 1 \n",
    "        exposures_dict[age][year].gdf['longitude'] = exposures_dict[age][year].gdf['longitude'].apply(lambda x: x - 360 if x > 180 else x)\n",
    "        exposures_dict[age][year].gdf['value'][exposures_dict[age][year].gdf['value']<0] = 0"
   ]
  },
  {
   "cell_type": "code",
   "execution_count": 6,
   "id": "e1640f8c-ce10-4f0d-b432-c04b5845f87f",
   "metadata": {},
   "outputs": [],
   "source": [
    "from climada.entity.impact_funcs import ImpactFunc, ImpactFuncSet\n",
    "\n",
    "impf_set = ImpactFuncSet()\n",
    "\n",
    "impfhw = ImpactFunc()\n",
    "impfhw.id = 1\n",
    "impfhw.haz_type = 'TC'\n",
    "impfhw.name = 'Step function tc'\n",
    "impfhw.intensity_unit = ''\n",
    "impfhw.intensity = np.array([0, 32, 32.9, 33, 34])\n",
    "impfhw.mdd = np.array([0, 0, 0, 1, 1])\n",
    "impfhw.paa = np.ones(impfhw.intensity.shape)\n",
    "impfhw.check()\n",
    "impf_set.append(impfhw)"
   ]
  },
  {
   "cell_type": "code",
   "execution_count": 11,
   "id": "3f8d263c-9cab-4f14-86dc-aa61a345a42b",
   "metadata": {
    "scrolled": true
   },
   "outputs": [
    {
     "name": "stdout",
     "output_type": "stream",
     "text": [
      "2024-04-13 14:10:07,557 - climada.util.coordinates - WARNING - Distance to closest centroid is greater than 100km for 289123 coordinates.\n",
      "2024-04-13 14:10:08,412 - climada.util.coordinates - WARNING - Distance to closest centroid is greater than 100km for 1628 coordinates.\n",
      "2024-04-13 14:10:18,758 - climada.util.coordinates - WARNING - Distance to closest centroid is greater than 100km for 289123 coordinates.\n",
      "2024-04-13 14:10:19,627 - climada.util.coordinates - WARNING - Distance to closest centroid is greater than 100km for 1628 coordinates.\n",
      "2024-04-13 14:10:30,032 - climada.util.coordinates - WARNING - Distance to closest centroid is greater than 100km for 289123 coordinates.\n",
      "2024-04-13 14:10:30,862 - climada.util.coordinates - WARNING - Distance to closest centroid is greater than 100km for 1628 coordinates.\n",
      "2024-04-13 14:10:41,086 - climada.util.coordinates - WARNING - Distance to closest centroid is greater than 100km for 289123 coordinates.\n",
      "2024-04-13 14:10:41,871 - climada.util.coordinates - WARNING - Distance to closest centroid is greater than 100km for 1628 coordinates.\n",
      "2024-04-13 14:10:52,027 - climada.util.coordinates - WARNING - Distance to closest centroid is greater than 100km for 289123 coordinates.\n",
      "2024-04-13 14:10:52,816 - climada.util.coordinates - WARNING - Distance to closest centroid is greater than 100km for 1628 coordinates.\n",
      "2024-04-13 14:11:03,020 - climada.util.coordinates - WARNING - Distance to closest centroid is greater than 100km for 289123 coordinates.\n",
      "2024-04-13 14:11:03,853 - climada.util.coordinates - WARNING - Distance to closest centroid is greater than 100km for 1628 coordinates.\n",
      "2024-04-13 14:11:13,538 - climada.util.coordinates - WARNING - Distance to closest centroid is greater than 100km for 289123 coordinates.\n",
      "2024-04-13 14:11:14,309 - climada.util.coordinates - WARNING - Distance to closest centroid is greater than 100km for 1628 coordinates.\n",
      "2024-04-13 14:11:23,927 - climada.util.coordinates - WARNING - Distance to closest centroid is greater than 100km for 289123 coordinates.\n",
      "2024-04-13 14:11:24,704 - climada.util.coordinates - WARNING - Distance to closest centroid is greater than 100km for 1628 coordinates.\n",
      "2024-04-13 14:11:34,284 - climada.util.coordinates - WARNING - Distance to closest centroid is greater than 100km for 289123 coordinates.\n",
      "2024-04-13 14:11:35,053 - climada.util.coordinates - WARNING - Distance to closest centroid is greater than 100km for 1628 coordinates.\n",
      "2024-04-13 14:11:44,555 - climada.util.coordinates - WARNING - Distance to closest centroid is greater than 100km for 289123 coordinates.\n",
      "2024-04-13 14:11:45,322 - climada.util.coordinates - WARNING - Distance to closest centroid is greater than 100km for 1628 coordinates.\n",
      "2024-04-13 14:11:54,802 - climada.util.coordinates - WARNING - Distance to closest centroid is greater than 100km for 289123 coordinates.\n",
      "2024-04-13 14:11:55,569 - climada.util.coordinates - WARNING - Distance to closest centroid is greater than 100km for 1628 coordinates.\n",
      "2024-04-13 14:12:05,059 - climada.util.coordinates - WARNING - Distance to closest centroid is greater than 100km for 289123 coordinates.\n",
      "2024-04-13 14:12:05,824 - climada.util.coordinates - WARNING - Distance to closest centroid is greater than 100km for 1628 coordinates.\n",
      "2024-04-13 14:12:15,400 - climada.util.coordinates - WARNING - Distance to closest centroid is greater than 100km for 289123 coordinates.\n",
      "2024-04-13 14:12:16,173 - climada.util.coordinates - WARNING - Distance to closest centroid is greater than 100km for 1628 coordinates.\n",
      "2024-04-13 14:12:25,815 - climada.util.coordinates - WARNING - Distance to closest centroid is greater than 100km for 289123 coordinates.\n",
      "2024-04-13 14:12:26,584 - climada.util.coordinates - WARNING - Distance to closest centroid is greater than 100km for 1628 coordinates.\n",
      "2024-04-13 14:12:36,034 - climada.util.coordinates - WARNING - Distance to closest centroid is greater than 100km for 289123 coordinates.\n",
      "2024-04-13 14:12:36,804 - climada.util.coordinates - WARNING - Distance to closest centroid is greater than 100km for 1628 coordinates.\n",
      "2024-04-13 14:12:46,265 - climada.util.coordinates - WARNING - Distance to closest centroid is greater than 100km for 289123 coordinates.\n",
      "2024-04-13 14:12:47,032 - climada.util.coordinates - WARNING - Distance to closest centroid is greater than 100km for 1628 coordinates.\n",
      "2024-04-13 14:12:56,485 - climada.util.coordinates - WARNING - Distance to closest centroid is greater than 100km for 289123 coordinates.\n",
      "2024-04-13 14:12:57,250 - climada.util.coordinates - WARNING - Distance to closest centroid is greater than 100km for 1628 coordinates.\n",
      "2024-04-13 14:13:06,742 - climada.util.coordinates - WARNING - Distance to closest centroid is greater than 100km for 289123 coordinates.\n",
      "2024-04-13 14:13:07,513 - climada.util.coordinates - WARNING - Distance to closest centroid is greater than 100km for 1628 coordinates.\n",
      "2024-04-13 14:13:17,381 - climada.util.coordinates - WARNING - Distance to closest centroid is greater than 100km for 289123 coordinates.\n",
      "2024-04-13 14:13:18,154 - climada.util.coordinates - WARNING - Distance to closest centroid is greater than 100km for 1628 coordinates.\n",
      "2024-04-13 14:13:18,208 - climada.engine.impact - WARNING - The Impact.tot_value attribute is deprecated.Use Exposures.affected_total_value to calculate the affected total exposure value based on a specific hazard intensity threshold\n",
      "2024-04-13 14:13:18,209 - climada.engine.impact - WARNING - The Impact.tot_value attribute is deprecated.Use Exposures.affected_total_value to calculate the affected total exposure value based on a specific hazard intensity threshold\n",
      "2024-04-13 14:13:18,209 - climada.engine.impact - WARNING - The Impact.tot_value attribute is deprecated.Use Exposures.affected_total_value to calculate the affected total exposure value based on a specific hazard intensity threshold\n",
      "2024-04-13 14:13:18,209 - climada.engine.impact - WARNING - The Impact.tot_value attribute is deprecated.Use Exposures.affected_total_value to calculate the affected total exposure value based on a specific hazard intensity threshold\n",
      "2024-04-13 14:13:18,210 - climada.engine.impact - WARNING - The Impact.tot_value attribute is deprecated.Use Exposures.affected_total_value to calculate the affected total exposure value based on a specific hazard intensity threshold\n",
      "2024-04-13 14:13:18,210 - climada.engine.impact - WARNING - The Impact.tot_value attribute is deprecated.Use Exposures.affected_total_value to calculate the affected total exposure value based on a specific hazard intensity threshold\n",
      "2024-04-13 14:13:18,210 - climada.engine.impact - WARNING - The Impact.tot_value attribute is deprecated.Use Exposures.affected_total_value to calculate the affected total exposure value based on a specific hazard intensity threshold\n",
      "2024-04-13 14:13:18,210 - climada.engine.impact - WARNING - The Impact.tot_value attribute is deprecated.Use Exposures.affected_total_value to calculate the affected total exposure value based on a specific hazard intensity threshold\n",
      "2024-04-13 14:13:18,211 - climada.engine.impact - WARNING - The Impact.tot_value attribute is deprecated.Use Exposures.affected_total_value to calculate the affected total exposure value based on a specific hazard intensity threshold\n",
      "2024-04-13 14:13:18,211 - climada.engine.impact - WARNING - The Impact.tot_value attribute is deprecated.Use Exposures.affected_total_value to calculate the affected total exposure value based on a specific hazard intensity threshold\n",
      "2024-04-13 14:13:18,211 - climada.engine.impact - WARNING - The Impact.tot_value attribute is deprecated.Use Exposures.affected_total_value to calculate the affected total exposure value based on a specific hazard intensity threshold\n",
      "2024-04-13 14:13:18,211 - climada.engine.impact - WARNING - The Impact.tot_value attribute is deprecated.Use Exposures.affected_total_value to calculate the affected total exposure value based on a specific hazard intensity threshold\n",
      "2024-04-13 14:13:18,212 - climada.engine.impact - WARNING - The Impact.tot_value attribute is deprecated.Use Exposures.affected_total_value to calculate the affected total exposure value based on a specific hazard intensity threshold\n",
      "2024-04-13 14:13:18,212 - climada.engine.impact - WARNING - The Impact.tot_value attribute is deprecated.Use Exposures.affected_total_value to calculate the affected total exposure value based on a specific hazard intensity threshold\n",
      "2024-04-13 14:13:18,212 - climada.engine.impact - WARNING - The Impact.tot_value attribute is deprecated.Use Exposures.affected_total_value to calculate the affected total exposure value based on a specific hazard intensity threshold\n",
      "2024-04-13 14:13:18,213 - climada.engine.impact - WARNING - The Impact.tot_value attribute is deprecated.Use Exposures.affected_total_value to calculate the affected total exposure value based on a specific hazard intensity threshold\n",
      "2024-04-13 14:13:18,213 - climada.engine.impact - WARNING - The Impact.tot_value attribute is deprecated.Use Exposures.affected_total_value to calculate the affected total exposure value based on a specific hazard intensity threshold\n",
      "2024-04-13 14:13:18,213 - climada.engine.impact - WARNING - The Impact.tot_value attribute is deprecated.Use Exposures.affected_total_value to calculate the affected total exposure value based on a specific hazard intensity threshold\n",
      "2024-04-13 14:13:18,213 - climada.engine.impact - WARNING - The Impact.tot_value attribute is deprecated.Use Exposures.affected_total_value to calculate the affected total exposure value based on a specific hazard intensity threshold\n",
      "2024-04-13 14:13:27,672 - climada.util.coordinates - WARNING - Distance to closest centroid is greater than 100km for 289123 coordinates.\n",
      "2024-04-13 14:13:28,444 - climada.util.coordinates - WARNING - Distance to closest centroid is greater than 100km for 1628 coordinates.\n",
      "2024-04-13 14:13:38,019 - climada.util.coordinates - WARNING - Distance to closest centroid is greater than 100km for 289123 coordinates.\n",
      "2024-04-13 14:13:38,806 - climada.util.coordinates - WARNING - Distance to closest centroid is greater than 100km for 1628 coordinates.\n",
      "2024-04-13 14:13:48,658 - climada.util.coordinates - WARNING - Distance to closest centroid is greater than 100km for 289123 coordinates.\n",
      "2024-04-13 14:13:49,426 - climada.util.coordinates - WARNING - Distance to closest centroid is greater than 100km for 1628 coordinates.\n",
      "2024-04-13 14:13:59,220 - climada.util.coordinates - WARNING - Distance to closest centroid is greater than 100km for 289123 coordinates.\n",
      "2024-04-13 14:13:59,990 - climada.util.coordinates - WARNING - Distance to closest centroid is greater than 100km for 1628 coordinates.\n",
      "2024-04-13 14:14:09,514 - climada.util.coordinates - WARNING - Distance to closest centroid is greater than 100km for 289123 coordinates.\n",
      "2024-04-13 14:14:10,284 - climada.util.coordinates - WARNING - Distance to closest centroid is greater than 100km for 1628 coordinates.\n",
      "2024-04-13 14:14:19,767 - climada.util.coordinates - WARNING - Distance to closest centroid is greater than 100km for 289123 coordinates.\n",
      "2024-04-13 14:14:20,537 - climada.util.coordinates - WARNING - Distance to closest centroid is greater than 100km for 1628 coordinates.\n",
      "2024-04-13 14:14:30,002 - climada.util.coordinates - WARNING - Distance to closest centroid is greater than 100km for 289123 coordinates.\n",
      "2024-04-13 14:14:30,772 - climada.util.coordinates - WARNING - Distance to closest centroid is greater than 100km for 1628 coordinates.\n",
      "2024-04-13 14:14:40,235 - climada.util.coordinates - WARNING - Distance to closest centroid is greater than 100km for 289123 coordinates.\n",
      "2024-04-13 14:14:41,015 - climada.util.coordinates - WARNING - Distance to closest centroid is greater than 100km for 1628 coordinates.\n",
      "2024-04-13 14:14:50,635 - climada.util.coordinates - WARNING - Distance to closest centroid is greater than 100km for 289123 coordinates.\n",
      "2024-04-13 14:14:51,407 - climada.util.coordinates - WARNING - Distance to closest centroid is greater than 100km for 1628 coordinates.\n",
      "2024-04-13 14:15:00,958 - climada.util.coordinates - WARNING - Distance to closest centroid is greater than 100km for 289123 coordinates.\n",
      "2024-04-13 14:15:01,725 - climada.util.coordinates - WARNING - Distance to closest centroid is greater than 100km for 1628 coordinates.\n",
      "2024-04-13 14:15:11,507 - climada.util.coordinates - WARNING - Distance to closest centroid is greater than 100km for 289123 coordinates.\n",
      "2024-04-13 14:15:12,279 - climada.util.coordinates - WARNING - Distance to closest centroid is greater than 100km for 1628 coordinates.\n",
      "2024-04-13 14:15:21,764 - climada.util.coordinates - WARNING - Distance to closest centroid is greater than 100km for 289123 coordinates.\n",
      "2024-04-13 14:15:22,536 - climada.util.coordinates - WARNING - Distance to closest centroid is greater than 100km for 1628 coordinates.\n",
      "2024-04-13 14:15:32,042 - climada.util.coordinates - WARNING - Distance to closest centroid is greater than 100km for 289123 coordinates.\n",
      "2024-04-13 14:15:32,820 - climada.util.coordinates - WARNING - Distance to closest centroid is greater than 100km for 1628 coordinates.\n",
      "2024-04-13 14:15:42,276 - climada.util.coordinates - WARNING - Distance to closest centroid is greater than 100km for 289123 coordinates.\n",
      "2024-04-13 14:15:43,045 - climada.util.coordinates - WARNING - Distance to closest centroid is greater than 100km for 1628 coordinates.\n",
      "2024-04-13 14:15:52,480 - climada.util.coordinates - WARNING - Distance to closest centroid is greater than 100km for 289123 coordinates.\n",
      "2024-04-13 14:15:53,251 - climada.util.coordinates - WARNING - Distance to closest centroid is greater than 100km for 1628 coordinates.\n",
      "2024-04-13 14:16:02,673 - climada.util.coordinates - WARNING - Distance to closest centroid is greater than 100km for 289123 coordinates.\n",
      "2024-04-13 14:16:03,442 - climada.util.coordinates - WARNING - Distance to closest centroid is greater than 100km for 1628 coordinates.\n",
      "2024-04-13 14:16:12,900 - climada.util.coordinates - WARNING - Distance to closest centroid is greater than 100km for 289123 coordinates.\n",
      "2024-04-13 14:16:13,672 - climada.util.coordinates - WARNING - Distance to closest centroid is greater than 100km for 1628 coordinates.\n",
      "2024-04-13 14:16:23,112 - climada.util.coordinates - WARNING - Distance to closest centroid is greater than 100km for 289123 coordinates.\n",
      "2024-04-13 14:16:23,880 - climada.util.coordinates - WARNING - Distance to closest centroid is greater than 100km for 1628 coordinates.\n",
      "2024-04-13 14:16:33,335 - climada.util.coordinates - WARNING - Distance to closest centroid is greater than 100km for 289123 coordinates.\n",
      "2024-04-13 14:16:34,106 - climada.util.coordinates - WARNING - Distance to closest centroid is greater than 100km for 1628 coordinates.\n",
      "2024-04-13 14:16:34,148 - climada.engine.impact - WARNING - The Impact.tot_value attribute is deprecated.Use Exposures.affected_total_value to calculate the affected total exposure value based on a specific hazard intensity threshold\n",
      "2024-04-13 14:16:34,149 - climada.engine.impact - WARNING - The Impact.tot_value attribute is deprecated.Use Exposures.affected_total_value to calculate the affected total exposure value based on a specific hazard intensity threshold\n",
      "2024-04-13 14:16:34,149 - climada.engine.impact - WARNING - The Impact.tot_value attribute is deprecated.Use Exposures.affected_total_value to calculate the affected total exposure value based on a specific hazard intensity threshold\n",
      "2024-04-13 14:16:34,149 - climada.engine.impact - WARNING - The Impact.tot_value attribute is deprecated.Use Exposures.affected_total_value to calculate the affected total exposure value based on a specific hazard intensity threshold\n",
      "2024-04-13 14:16:34,149 - climada.engine.impact - WARNING - The Impact.tot_value attribute is deprecated.Use Exposures.affected_total_value to calculate the affected total exposure value based on a specific hazard intensity threshold\n",
      "2024-04-13 14:16:34,150 - climada.engine.impact - WARNING - The Impact.tot_value attribute is deprecated.Use Exposures.affected_total_value to calculate the affected total exposure value based on a specific hazard intensity threshold\n",
      "2024-04-13 14:16:34,150 - climada.engine.impact - WARNING - The Impact.tot_value attribute is deprecated.Use Exposures.affected_total_value to calculate the affected total exposure value based on a specific hazard intensity threshold\n",
      "2024-04-13 14:16:34,150 - climada.engine.impact - WARNING - The Impact.tot_value attribute is deprecated.Use Exposures.affected_total_value to calculate the affected total exposure value based on a specific hazard intensity threshold\n",
      "2024-04-13 14:16:34,150 - climada.engine.impact - WARNING - The Impact.tot_value attribute is deprecated.Use Exposures.affected_total_value to calculate the affected total exposure value based on a specific hazard intensity threshold\n",
      "2024-04-13 14:16:34,151 - climada.engine.impact - WARNING - The Impact.tot_value attribute is deprecated.Use Exposures.affected_total_value to calculate the affected total exposure value based on a specific hazard intensity threshold\n",
      "2024-04-13 14:16:34,151 - climada.engine.impact - WARNING - The Impact.tot_value attribute is deprecated.Use Exposures.affected_total_value to calculate the affected total exposure value based on a specific hazard intensity threshold\n",
      "2024-04-13 14:16:34,151 - climada.engine.impact - WARNING - The Impact.tot_value attribute is deprecated.Use Exposures.affected_total_value to calculate the affected total exposure value based on a specific hazard intensity threshold\n",
      "2024-04-13 14:16:34,151 - climada.engine.impact - WARNING - The Impact.tot_value attribute is deprecated.Use Exposures.affected_total_value to calculate the affected total exposure value based on a specific hazard intensity threshold\n",
      "2024-04-13 14:16:34,152 - climada.engine.impact - WARNING - The Impact.tot_value attribute is deprecated.Use Exposures.affected_total_value to calculate the affected total exposure value based on a specific hazard intensity threshold\n",
      "2024-04-13 14:16:34,152 - climada.engine.impact - WARNING - The Impact.tot_value attribute is deprecated.Use Exposures.affected_total_value to calculate the affected total exposure value based on a specific hazard intensity threshold\n",
      "2024-04-13 14:16:34,152 - climada.engine.impact - WARNING - The Impact.tot_value attribute is deprecated.Use Exposures.affected_total_value to calculate the affected total exposure value based on a specific hazard intensity threshold\n",
      "2024-04-13 14:16:34,152 - climada.engine.impact - WARNING - The Impact.tot_value attribute is deprecated.Use Exposures.affected_total_value to calculate the affected total exposure value based on a specific hazard intensity threshold\n",
      "2024-04-13 14:16:34,152 - climada.engine.impact - WARNING - The Impact.tot_value attribute is deprecated.Use Exposures.affected_total_value to calculate the affected total exposure value based on a specific hazard intensity threshold\n",
      "2024-04-13 14:16:34,153 - climada.engine.impact - WARNING - The Impact.tot_value attribute is deprecated.Use Exposures.affected_total_value to calculate the affected total exposure value based on a specific hazard intensity threshold\n"
     ]
    }
   ],
   "source": [
    "from climada.engine import Impact, ImpactCalc\n",
    "\n",
    "impact_dict={age:{year:ImpactCalc(exposures_dict[age][str(year)], impf_set, yearly_hazards[year]).impact(save_mat=True) for year in yearly_hazards} for age in exposures_dict}\n",
    "for age in impact_dict:\n",
    "    for year in impact_dict[age]:\n",
    "        impact_dict[age][year].tot_value=0\n",
    "\n",
    "\n",
    "impact_dict_no_change_vuln_pop={age:{year:ImpactCalc(exposures_dict[age]['2003'], impf_set, yearly_hazards[year]).impact(save_mat=True) for year in yearly_hazards} for age in exposures_dict}\n",
    "for age in impact_dict_no_change_vuln_pop:\n",
    "    for year in impact_dict[age]:\n",
    "        impact_dict_no_change_vuln_pop[age][year].tot_value=0\n",
    "\n"
   ]
  },
  {
   "cell_type": "code",
   "execution_count": null,
   "id": "ab91074a-2c42-4c68-8270-0c6e827a5689",
   "metadata": {},
   "outputs": [],
   "source": [
    "(impact_dict['all'][2003].imp_mat[1,:].toarray().flatten() > exposures_dict['all']['2003'].gdf.value).sum()"
   ]
  },
  {
   "cell_type": "code",
   "execution_count": null,
   "id": "f57a9a1c-ba31-4098-b84e-5f22834a8b78",
   "metadata": {},
   "outputs": [],
   "source": [
    "exposures_dict['all']['2022'].gdf[exposures_dict['all']['2022'].gdf.value<0]"
   ]
  },
  {
   "cell_type": "code",
   "execution_count": null,
   "id": "b4729748-e1db-4561-bfd9-a4dcb25868e7",
   "metadata": {},
   "outputs": [],
   "source": [
    "impact_dict[year].plot_hexbin_eai_exposure(vmax=100, pop_name=False, cmap='viridis')"
   ]
  },
  {
   "cell_type": "code",
   "execution_count": 8,
   "id": "7fec35fe-a814-47ac-bf3b-5034c0d2e5a9",
   "metadata": {
    "scrolled": true
   },
   "outputs": [
    {
     "data": {
      "text/plain": [
       "{'0': {2000: <climada.engine.impact.Impact at 0x19a640a10>,\n",
       "  2001: <climada.engine.impact.Impact at 0x1994d4ed0>,\n",
       "  2002: <climada.engine.impact.Impact at 0x1994d6810>,\n",
       "  2003: <climada.engine.impact.Impact at 0x1994d7d90>,\n",
       "  2004: <climada.engine.impact.Impact at 0x1994cd850>,\n",
       "  2005: <climada.engine.impact.Impact at 0x19a6ba9d0>,\n",
       "  2006: <climada.engine.impact.Impact at 0x198530390>,\n",
       "  2007: <climada.engine.impact.Impact at 0x1995c1a90>,\n",
       "  2008: <climada.engine.impact.Impact at 0x1995c2d90>,\n",
       "  2009: <climada.engine.impact.Impact at 0x1995c2090>,\n",
       "  2010: <climada.engine.impact.Impact at 0x19a5cda90>,\n",
       "  2011: <climada.engine.impact.Impact at 0x1994cf190>,\n",
       "  2012: <climada.engine.impact.Impact at 0x1995bcd90>,\n",
       "  2013: <climada.engine.impact.Impact at 0x1995be490>,\n",
       "  2014: <climada.engine.impact.Impact at 0x1995af5d0>,\n",
       "  2015: <climada.engine.impact.Impact at 0x19a640b50>,\n",
       "  2016: <climada.engine.impact.Impact at 0x19a5e10d0>,\n",
       "  2017: <climada.engine.impact.Impact at 0x19a6b8c10>,\n",
       "  2018: <climada.engine.impact.Impact at 0x19a663650>,\n",
       "  2019: <climada.engine.impact.Impact at 0x1995a3cd0>,\n",
       "  2020: <climada.engine.impact.Impact at 0x19959a450>,\n",
       "  2021: <climada.engine.impact.Impact at 0x19959ba10>},\n",
       " '65_70_75_80': {2000: <climada.engine.impact.Impact at 0x19959a9d0>,\n",
       "  2001: <climada.engine.impact.Impact at 0x19a5e22d0>,\n",
       "  2002: <climada.engine.impact.Impact at 0x19958fbd0>,\n",
       "  2003: <climada.engine.impact.Impact at 0x19a655f90>,\n",
       "  2004: <climada.engine.impact.Impact at 0x19958df90>,\n",
       "  2005: <climada.engine.impact.Impact at 0x19860fa50>,\n",
       "  2006: <climada.engine.impact.Impact at 0x199579250>,\n",
       "  2007: <climada.engine.impact.Impact at 0x19a639b10>,\n",
       "  2008: <climada.engine.impact.Impact at 0x19a60f050>,\n",
       "  2009: <climada.engine.impact.Impact at 0x1995c1410>,\n",
       "  2010: <climada.engine.impact.Impact at 0x1994d6150>,\n",
       "  2011: <climada.engine.impact.Impact at 0x19a663f50>,\n",
       "  2012: <climada.engine.impact.Impact at 0x19956b590>,\n",
       "  2013: <climada.engine.impact.Impact at 0x199566590>,\n",
       "  2014: <climada.engine.impact.Impact at 0x19a715f90>,\n",
       "  2015: <climada.engine.impact.Impact at 0x19955d750>,\n",
       "  2016: <climada.engine.impact.Impact at 0x199565690>,\n",
       "  2017: <climada.engine.impact.Impact at 0x19955ffd0>,\n",
       "  2018: <climada.engine.impact.Impact at 0x19955f050>,\n",
       "  2019: <climada.engine.impact.Impact at 0x198580710>,\n",
       "  2020: <climada.engine.impact.Impact at 0x199553f90>,\n",
       "  2021: <climada.engine.impact.Impact at 0x199599650>},\n",
       " 'all': {2000: <climada.engine.impact.Impact at 0x19954ad10>,\n",
       "  2001: <climada.engine.impact.Impact at 0x19954bfd0>,\n",
       "  2002: <climada.engine.impact.Impact at 0x199549650>,\n",
       "  2003: <climada.engine.impact.Impact at 0x19954ab90>,\n",
       "  2004: <climada.engine.impact.Impact at 0x19957c190>,\n",
       "  2005: <climada.engine.impact.Impact at 0x19953d850>,\n",
       "  2006: <climada.engine.impact.Impact at 0x19954b590>,\n",
       "  2007: <climada.engine.impact.Impact at 0x199548210>,\n",
       "  2008: <climada.engine.impact.Impact at 0x199541710>,\n",
       "  2009: <climada.engine.impact.Impact at 0x19954ac10>,\n",
       "  2010: <climada.engine.impact.Impact at 0x19952bfd0>,\n",
       "  2011: <climada.engine.impact.Impact at 0x199525810>,\n",
       "  2012: <climada.engine.impact.Impact at 0x199526d90>,\n",
       "  2013: <climada.engine.impact.Impact at 0x199527cd0>,\n",
       "  2014: <climada.engine.impact.Impact at 0x199529710>,\n",
       "  2015: <climada.engine.impact.Impact at 0x199542c50>,\n",
       "  2016: <climada.engine.impact.Impact at 0x199523c90>,\n",
       "  2017: <climada.engine.impact.Impact at 0x199523590>,\n",
       "  2018: <climada.engine.impact.Impact at 0x199525190>,\n",
       "  2019: <climada.engine.impact.Impact at 0x1995202d0>,\n",
       "  2020: <climada.engine.impact.Impact at 0x1996e1a10>,\n",
       "  2021: <climada.engine.impact.Impact at 0x1996e2e10>}}"
      ]
     },
     "execution_count": 8,
     "metadata": {},
     "output_type": "execute_result"
    }
   ],
   "source": [
    "impact_dict"
   ]
  },
  {
   "cell_type": "code",
   "execution_count": 25,
   "id": "c8d44dcf-9abe-4976-acfd-bf692f107460",
   "metadata": {},
   "outputs": [
    {
     "data": {
      "text/plain": [
       "{2000: <climada.engine.impact.Impact at 0x19954ad10>,\n",
       " 2001: <climada.engine.impact.Impact at 0x19954bfd0>,\n",
       " 2002: <climada.engine.impact.Impact at 0x199549650>,\n",
       " 2003: <climada.engine.impact.Impact at 0x19954ab90>,\n",
       " 2004: <climada.engine.impact.Impact at 0x19957c190>,\n",
       " 2005: <climada.engine.impact.Impact at 0x19953d850>,\n",
       " 2006: <climada.engine.impact.Impact at 0x19954b590>,\n",
       " 2007: <climada.engine.impact.Impact at 0x199548210>,\n",
       " 2008: <climada.engine.impact.Impact at 0x199541710>,\n",
       " 2009: <climada.engine.impact.Impact at 0x19954ac10>,\n",
       " 2010: <climada.engine.impact.Impact at 0x19952bfd0>,\n",
       " 2011: <climada.engine.impact.Impact at 0x199525810>,\n",
       " 2012: <climada.engine.impact.Impact at 0x199526d90>,\n",
       " 2013: <climada.engine.impact.Impact at 0x199527cd0>,\n",
       " 2014: <climada.engine.impact.Impact at 0x199529710>,\n",
       " 2015: <climada.engine.impact.Impact at 0x199542c50>,\n",
       " 2016: <climada.engine.impact.Impact at 0x199523c90>,\n",
       " 2017: <climada.engine.impact.Impact at 0x199523590>,\n",
       " 2018: <climada.engine.impact.Impact at 0x199525190>,\n",
       " 2019: <climada.engine.impact.Impact at 0x1995202d0>,\n",
       " 2020: <climada.engine.impact.Impact at 0x1996e1a10>,\n",
       " 2021: <climada.engine.impact.Impact at 0x1996e2e10>}"
      ]
     },
     "execution_count": 25,
     "metadata": {},
     "output_type": "execute_result"
    }
   ],
   "source": [
    "impact_dict[age]"
   ]
  },
  {
   "cell_type": "code",
   "execution_count": 13,
   "id": "eac65332-088e-44ed-bd1a-a2794f232dfd",
   "metadata": {
    "scrolled": true
   },
   "outputs": [
    {
     "name": "stdout",
     "output_type": "stream",
     "text": [
      "2024-04-13 14:19:15,856 - climada.engine.impact - WARNING - The Impact.tot_value attribute is deprecated.Use Exposures.affected_total_value to calculate the affected total exposure value based on a specific hazard intensity threshold\n",
      "2024-04-13 14:19:15,859 - climada.engine.impact - WARNING - The Impact.tot_value attribute is deprecated.Use Exposures.affected_total_value to calculate the affected total exposure value based on a specific hazard intensity threshold\n",
      "2024-04-13 14:19:15,860 - climada.engine.impact - WARNING - The Impact.tot_value attribute is deprecated.Use Exposures.affected_total_value to calculate the affected total exposure value based on a specific hazard intensity threshold\n",
      "2024-04-13 14:19:15,861 - climada.engine.impact - WARNING - The Impact.tot_value attribute is deprecated.Use Exposures.affected_total_value to calculate the affected total exposure value based on a specific hazard intensity threshold\n",
      "2024-04-13 14:19:15,862 - climada.engine.impact - WARNING - The Impact.tot_value attribute is deprecated.Use Exposures.affected_total_value to calculate the affected total exposure value based on a specific hazard intensity threshold\n",
      "2024-04-13 14:19:15,863 - climada.engine.impact - WARNING - The Impact.tot_value attribute is deprecated.Use Exposures.affected_total_value to calculate the affected total exposure value based on a specific hazard intensity threshold\n",
      "2024-04-13 14:19:15,864 - climada.engine.impact - WARNING - The Impact.tot_value attribute is deprecated.Use Exposures.affected_total_value to calculate the affected total exposure value based on a specific hazard intensity threshold\n",
      "2024-04-13 14:19:15,864 - climada.engine.impact - WARNING - The Impact.tot_value attribute is deprecated.Use Exposures.affected_total_value to calculate the affected total exposure value based on a specific hazard intensity threshold\n",
      "2024-04-13 14:19:15,865 - climada.engine.impact - WARNING - The Impact.tot_value attribute is deprecated.Use Exposures.affected_total_value to calculate the affected total exposure value based on a specific hazard intensity threshold\n",
      "2024-04-13 14:19:15,866 - climada.engine.impact - WARNING - The Impact.tot_value attribute is deprecated.Use Exposures.affected_total_value to calculate the affected total exposure value based on a specific hazard intensity threshold\n",
      "2024-04-13 14:19:15,866 - climada.engine.impact - WARNING - The Impact.tot_value attribute is deprecated.Use Exposures.affected_total_value to calculate the affected total exposure value based on a specific hazard intensity threshold\n",
      "2024-04-13 14:19:15,867 - climada.engine.impact - WARNING - The Impact.tot_value attribute is deprecated.Use Exposures.affected_total_value to calculate the affected total exposure value based on a specific hazard intensity threshold\n",
      "2024-04-13 14:19:15,868 - climada.engine.impact - WARNING - The Impact.tot_value attribute is deprecated.Use Exposures.affected_total_value to calculate the affected total exposure value based on a specific hazard intensity threshold\n",
      "2024-04-13 14:19:15,868 - climada.engine.impact - WARNING - The Impact.tot_value attribute is deprecated.Use Exposures.affected_total_value to calculate the affected total exposure value based on a specific hazard intensity threshold\n",
      "2024-04-13 14:19:15,869 - climada.engine.impact - WARNING - The Impact.tot_value attribute is deprecated.Use Exposures.affected_total_value to calculate the affected total exposure value based on a specific hazard intensity threshold\n",
      "2024-04-13 14:19:15,870 - climada.engine.impact - WARNING - The Impact.tot_value attribute is deprecated.Use Exposures.affected_total_value to calculate the affected total exposure value based on a specific hazard intensity threshold\n",
      "2024-04-13 14:19:15,872 - climada.engine.impact - WARNING - The Impact.tot_value attribute is deprecated.Use Exposures.affected_total_value to calculate the affected total exposure value based on a specific hazard intensity threshold\n",
      "2024-04-13 14:19:15,872 - climada.engine.impact - WARNING - The Impact.tot_value attribute is deprecated.Use Exposures.affected_total_value to calculate the affected total exposure value based on a specific hazard intensity threshold\n",
      "2024-04-13 14:19:15,873 - climada.engine.impact - WARNING - The Impact.tot_value attribute is deprecated.Use Exposures.affected_total_value to calculate the affected total exposure value based on a specific hazard intensity threshold\n",
      "2024-04-13 14:19:16,036 - climada.engine.impact - WARNING - The Impact.tot_value attribute is deprecated.Use Exposures.affected_total_value to calculate the affected total exposure value based on a specific hazard intensity threshold\n"
     ]
    }
   ],
   "source": [
    "impact_concat = {}\n",
    "impact_concat_no_change_vuln_pop = {}\n",
    "for age in impact_dict:\n",
    "    # impact_dict[age].pop(2000)\n",
    "    # impact_dict[age].pop(2001)\n",
    "    # impact_dict[age].pop(2002)\n",
    "    impact_concat[age] = Impact.concat(list(impact_dict[age].values()),reset_event_ids=True)\n",
    "    #impact_concat_no_change_vuln_pop[age] = Impact.concat(list(impact_dict_no_change_vuln_pop[age].values()),reset_event_ids=True)"
   ]
  },
  {
   "cell_type": "code",
   "execution_count": 14,
   "id": "3c29a404-f3d4-4bc5-9e53-fc34a5ea8445",
   "metadata": {},
   "outputs": [],
   "source": [
    "from climada.util import multi_risk\n",
    "impact_concat[age] = multi_risk.upscale_dates(impact_concat[age], by=\"month\")\n",
    "impact_concat[age] = multi_risk.aggregate_impact_by_date(impact_concat[age], how='sum')"
   ]
  },
  {
   "cell_type": "code",
   "execution_count": 32,
   "id": "8131850c-1c1e-4909-bfd0-f0d172301a3c",
   "metadata": {},
   "outputs": [
    {
     "data": {
      "text/plain": [
       "<228x1038240 sparse matrix of type '<class 'numpy.float64'>'\n",
       "\twith 23344 stored elements in Compressed Sparse Row format>"
      ]
     },
     "execution_count": 32,
     "metadata": {},
     "output_type": "execute_result"
    }
   ],
   "source": [
    "impact_concat[age].imp_mat"
   ]
  },
  {
   "cell_type": "code",
   "execution_count": 15,
   "id": "f56a44ca-46c1-4345-a6da-afdd990307d3",
   "metadata": {},
   "outputs": [],
   "source": [
    "for age in impact_dict:\n",
    "    impact_concat[age].write_csv(f\"/Users/szelie/Library/CloudStorage/OneDrive-ETHZurich/data/health_multi_risk_data/impacts/tc_{age}_2000_2021.csv\")\n",
    "    impact_concat[age].write_sparse_csr(f\"/Users/szelie/Library/CloudStorage/OneDrive-ETHZurich/data/health_multi_risk_data/impacts/tc_{age}_2000_2021.npz\")"
   ]
  },
  {
   "cell_type": "code",
   "execution_count": 20,
   "id": "2f10413e-55e2-4258-8f1c-907bc325f3fd",
   "metadata": {},
   "outputs": [],
   "source": [
    "for age in impact_dict:\n",
    "    impact_concat_no_change_vuln_pop[age].write_csv(\"/Users/szelie/Library/CloudStorage/OneDrive-ETHZurich/data/health_multi_risk_data/imp\n",
    "acts/hw_{age}_2000_2021_exp2003.csv\")\n",
    "    impact_concat_no_change_vuln_pop[age].write_sparse_csr(\"/Users/szelie/Library/CloudStorage/OneDrive-ETHZurich/data/health_multi_risk_data/impacts/hw_{age}_2000_2021_2003.npz\")"
   ]
  }
 ],
 "metadata": {
  "kernelspec": {
   "display_name": "Python 3 (ipykernel)",
   "language": "python",
   "name": "python3"
  },
  "language_info": {
   "codemirror_mode": {
    "name": "ipython",
    "version": 3
   },
   "file_extension": ".py",
   "mimetype": "text/x-python",
   "name": "python",
   "nbconvert_exporter": "python",
   "pygments_lexer": "ipython3",
   "version": "3.11.6"
  }
 },
 "nbformat": 4,
 "nbformat_minor": 5
}
