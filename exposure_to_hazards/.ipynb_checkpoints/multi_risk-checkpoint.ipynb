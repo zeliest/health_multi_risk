{
 "cells": [
  {
   "cell_type": "code",
   "execution_count": null,
   "id": "3198e13c-3fec-4706-8152-726dba79432b",
   "metadata": {
    "scrolled": true
   },
   "outputs": [],
   "source": [
    "from climada.engine import Impact"
   ]
  },
  {
   "cell_type": "code",
   "execution_count": null,
   "id": "e6fc61c9-6221-4d92-9b6e-9188e7ba32f6",
   "metadata": {},
   "outputs": [],
   "source": [
    "from pathlib import Path"
   ]
  },
  {
   "cell_type": "code",
   "execution_count": null,
   "id": "ea11e524-3ad6-446b-82e3-9d83b15c9965",
   "metadata": {},
   "outputs": [],
   "source": [
    "IMPACT_DIR = Path(\"/Users/szelie/OneDrive - ETH Zurich/data/health_multi_risk_data/impacts/single_haz\")\n",
    "\n",
    "def open_impact(hazard_type, age):\n",
    "    impact = Impact.from_csv(IMPACT_DIR / f\"csv/{hazard_type}_{age}_2003_2022.csv\")\n",
    "    impact.imp_mat = Impact.read_sparse_csr(IMPACT_DIR / f\"npz/{hazard_type}_{age}_2003_2022.npz\")\n",
    "    return impact"
   ]
  },
  {
   "cell_type": "code",
   "execution_count": null,
   "id": "ab6e8200-acfb-4d0c-bd86-acb9c86c6d03",
   "metadata": {},
   "outputs": [],
   "source": [
    "from climada.util import multi_risk\n",
    "ages = ['0_1']\n",
    "imp_dict = {}\n",
    "for age in ages:\n",
    "    imp_dict[age] = {}\n",
    "    for hazard_type in ['RF','EP','DR','HW','FI','TC','CS']:\n",
    "        imp_dict[age][hazard_type] = open_impact(hazard_type, age)\n",
    "    imp_dict[age]['HW'].date = imp_dict[age]['FI'].date #to fix\n",
    "    imp_dict[age]['CS'].date = imp_dict[age]['FI'].date #to fix\n",
    "    imp_dict[age]['EP'].date = imp_dict[age]['FI'].date #to fix"
   ]
  },
  {
   "cell_type": "code",
   "execution_count": null,
   "id": "a654f041-8d41-4afc-ab1c-be2e199233de",
   "metadata": {},
   "outputs": [],
   "source": [
    "imp_dict[age]['EP'].plot_hexbin_impact_exposure(120, vmax=1000, pop_name=False)"
   ]
  },
  {
   "cell_type": "code",
   "execution_count": null,
   "id": "a728d0e5-5b86-4924-a8e1-eb32d91e83f8",
   "metadata": {},
   "outputs": [],
   "source": [
    "imp_dict[age]['DR'].plot_hexbin_impact_exposure(78, vmax=1000, pop_name=False)"
   ]
  },
  {
   "cell_type": "code",
   "execution_count": null,
   "id": "28dae8fc-677c-4f88-b3a4-cc523fae054d",
   "metadata": {
    "scrolled": true
   },
   "outputs": [],
   "source": [
    "imp_dict_aggr = {}\n",
    "for age in ages:#['all','0_1','65_70_75_80']:\n",
    "    imp_dict_aggr[age] = {impact: multi_risk.upscale_dates(imp_dict[age][impact], by='month') for impact in imp_dict[age]}\n",
    "    imp_dict_aggr[age] = {impact: multi_risk.aggregate_events(imp_dict_aggr[age][impact], how='max') for impact in imp_dict[age]}\n",
    "    #imp_dict= multi_risk.fill_impact_gaps(imp_dict)"
   ]
  },
  {
   "cell_type": "code",
   "execution_count": null,
   "id": "17f70464-39c0-4a75-9c0b-5ef9fe03e6f5",
   "metadata": {},
   "outputs": [],
   "source": [
    "for age in ages:#['all','0_1','65_70_75_80']:\n",
    "    for hazard_type in ['RF','EP','DR','HW','FI','TC','CS']:\n",
    "        ids = imp_dict_aggr[age][hazard_type].event_id[0:228]\n",
    "        imp_dict_aggr[age][hazard_type] = imp_dict_aggr[age][hazard_type].select(event_ids=ids)\n",
    "        imp_dict_aggr[age][hazard_type].date = imp_dict_aggr[age]['RF_2y'].date"
   ]
  },
  {
   "cell_type": "code",
   "execution_count": null,
   "id": "2d8caf7b-b2f9-41c0-9816-e25a68faa9a9",
   "metadata": {
    "scrolled": true
   },
   "outputs": [],
   "source": [
    "# import xarray as xr\n",
    "# import climada.util.coordinates as u_coord\n",
    "\n",
    "\n",
    "# file_path = f\"/Users/szelie/OneDrive - ETH Zurich/data/health_multi_risk_data/worldpop_resampled/global_{'2003'}_era5_compatible.nc\"    \n",
    "# # Open the netCDF file using xarray\n",
    "# pop_data = xr.open_dataset(file_path)\n",
    "# df = pop_data.to_dataframe().reset_index()\n",
    "# countries = u_coord.country_to_iso(\n",
    "#                 u_coord.get_country_code(df.latitude, df.longitude)\n",
    "#             )\n",
    "\n",
    "# pop_data_list = []\n"
   ]
  },
  {
   "cell_type": "code",
   "execution_count": null,
   "id": "61a28102-99f8-402a-b34d-59cb0eabe7af",
   "metadata": {
    "scrolled": true
   },
   "outputs": [],
   "source": [
    "# import numpy as np\n",
    "# import pandas as pd\n",
    "# for year in np.arange(2003,2021):\n",
    "#     file_path = f\"/Users/szelie/OneDrive - ETH Zurich/data/health_multi_risk_data/worldpop_resampled/global_{year}_era5_compatible.nc\"    \n",
    "#     # Open the netCDF file using xarray\n",
    "#     pop_data = xr.open_dataset(file_path)\n",
    "#     pop_data = pop_data.to_dataframe().reset_index()\n",
    "#     pop_data[\"country\"] = countries\n",
    "#     pop_data_list.append(pop_data)\n"
   ]
  },
  {
   "cell_type": "code",
   "execution_count": null,
   "id": "cd9cf57b-b721-4e69-b84f-d71ddf5fb188",
   "metadata": {},
   "outputs": [],
   "source": [
    "# import pandas as pd\n",
    "# concat = pd.concat(pop_data_list)\n",
    "# country_pop_by_year = concat.groupby([\"country\",\"time\"]).sum().reset_index()"
   ]
  },
  {
   "cell_type": "code",
   "execution_count": null,
   "id": "3f508f12-48b8-4b0a-a03b-d2bcbe4d1833",
   "metadata": {},
   "outputs": [],
   "source": [
    "import pandas as pd"
   ]
  },
  {
   "cell_type": "code",
   "execution_count": null,
   "id": "1e8aea52-39b8-4e6b-9cad-dc782a7ef735",
   "metadata": {},
   "outputs": [],
   "source": [
    "import itertools\n",
    "combinations = []\n",
    "for r in range(1, len(list(imp_dict_aggr[age].keys())) + 1):\n",
    "    combinations.extend(list(itertools.combinations(list(imp_dict_aggr[age].keys()), r)))\n",
    "\n",
    "combinations = [t for t in combinations if len(set(inner_t[0] for inner_t in t)) == 1]\n"
   ]
  },
  {
   "cell_type": "code",
   "execution_count": null,
   "id": "87729038-5a1e-433f-bfc5-3af29e44b9f9",
   "metadata": {
    "scrolled": true,
    "tags": []
   },
   "outputs": [],
   "source": [
    "import itertools\n",
    "import copy\n",
    "import datetime\n",
    "import warnings\n",
    "from itertools import product\n",
    "\n",
    "import numpy as np\n",
    "import pandas as pd\n",
    "import scipy as sp\n",
    "from scipy import sparse\n",
    "from scipy.sparse import lil_matrix\n",
    "\n",
    "from climada.engine import Impact, ImpactCalc\n",
    "from climada.util.constants import DEF_CRS\n",
    "\n",
    "imp_combined= {}\n",
    "for age in imp_dict_aggr:\n",
    "    imp_combined[age] = multi_risk.calculate_combinations_dict(imp_dict_aggr[age], how='min', by='date', exp=None, combination_type='all')\n",
    "#     imp_max[year] = multi_risk.calculate_combinations_dict(imp_dict[year], how='max', by='date', exp=None, combination_type='all')\n",
    "#     imp_max[year] = {key: imp_max[year][key] for key in [\"(2020, 'ma')-(2020, 'dr')-(2020, 'hw')\", \"(2050, 'ma')-(2050, 'dr')-(2050, 'hw')\"]}\n",
    "#imp_combined = {key: imp_combined[key] for key in combinations}"
   ]
  },
  {
   "cell_type": "code",
   "execution_count": null,
   "id": "ac2cfb07-6788-4fbf-9602-d07bd884d1c0",
   "metadata": {},
   "outputs": [],
   "source": [
    "IMPACT_DIR = Path(\"/Users/szelie/OneDrive - ETH Zurich/data/health_multi_risk_data/impacts/multi_haz\")\n",
    "\n",
    "\n",
    "for age in imp_combined:\n",
    "    for combi in imp_combined[age]:\n",
    "        imp_combined[age][combi].write_csv(IMPACT_DIR / f\"csv/{combi}_{age}_2003_2022.csv\")\n",
    "        imp_combined[age][combi].write_sparse_csr(IMPACT_DIR / f\"npz/{combi}_{age}_2003_2022.npz\")"
   ]
  },
  {
   "cell_type": "code",
   "execution_count": null,
   "id": "f9524918-841d-4bc8-82eb-2e9626730630",
   "metadata": {},
   "outputs": [],
   "source": [
    "imp_combined"
   ]
  }
 ],
 "metadata": {
  "kernelspec": {
   "display_name": "Python 3 (ipykernel)",
   "language": "python",
   "name": "python3"
  },
  "language_info": {
   "codemirror_mode": {
    "name": "ipython",
    "version": 3
   },
   "file_extension": ".py",
   "mimetype": "text/x-python",
   "name": "python",
   "nbconvert_exporter": "python",
   "pygments_lexer": "ipython3",
   "version": "3.11.6"
  }
 },
 "nbformat": 4,
 "nbformat_minor": 5
}
