{
 "cells": [
  {
   "cell_type": "code",
   "execution_count": 12,
   "id": "edd6ab2b-1135-4402-8235-54c84f84d1ee",
   "metadata": {},
   "outputs": [],
   "source": [
    "import xarray as xr\n",
    "from calculate_exposure_to_haz import *\n",
    "\n",
    "from calculate_exposure_to_haz import INPUT_DIR, EXPOSURES_DIR, get_exposures, write_impact\n",
    "import numpy as np\n",
    "exposures_dict = get_exposures(haz_type='FI')\n"
   ]
  },
  {
   "cell_type": "markdown",
   "id": "c866b8a0-451d-4462-a4d9-c1deb72f416e",
   "metadata": {},
   "source": [
    "### fire"
   ]
  },
  {
   "cell_type": "code",
   "execution_count": 13,
   "id": "6b76857c-97e7-4f35-8a06-5ca5fae8f176",
   "metadata": {},
   "outputs": [],
   "source": [
    "import pandas as pd\n",
    "import numpy as np\n",
    "import xarray as xr\n",
    "\n",
    "from climada.hazard import Hazard\n",
    "\n",
    "yearly_hazards = {}\n",
    "\n",
    "# Loop over each unique year\n",
    "for year in np.arange(2003,2022):\n",
    "    file = INPUT_DIR / f\"fire_pm25/remapped_monthly/globPMfire_monthly_max_3day_mean_{year}.nc\"\n",
    "    fire = xr.open_dataset(file)\n",
    "    fire['lon'] = fire['lon'].where(fire['lon'] <= 180, fire['lon'] - 360) # make sure we have the -180 to 180 range\n",
    "\n",
    "    fire = fire.rename({'lat':'latitude', 'lon':'longitude'})\n",
    "    fire = fire.drop_vars(['time_bnds'])\n",
    "\n",
    "    # Convert it into a hazard\n",
    "    yearly_hazard = Hazard.from_xarray_raster(fire, hazard_type='FI', intensity_unit='kg/m3', intensity='cnc_PM_FRP_m_17')\n",
    "    yearly_hazard.intensity.data[yearly_hazard.intensity.data<3e-8] = 0\n",
    "    yearly_hazard.intensity.eliminate_zeros()\n",
    "    # Append the hazard to the list\n",
    "    yearly_hazards[year] = yearly_hazard\n",
    "\n"
   ]
  },
  {
   "cell_type": "code",
   "execution_count": 19,
   "id": "0618b3af-89d2-46a6-a5c2-593b2bbd927a",
   "metadata": {},
   "outputs": [],
   "source": [
    "from pathlib import Path\n",
    "from climada.entity import Exposures\n",
    "import numpy as np\n",
    "exposures_dict = {}\n",
    "\n",
    "\n",
    "for age in ['all' , '0_1', '65_70_75_80']:\n",
    "    exposures_dict[age] = {}\n",
    "    for year in np.arange(2003, 2022):\n",
    "        year = str(year)\n",
    "        exposures_dict[age][year] = Exposures.from_hdf5(EXPOSURES_DIR / f\"{age}_era5_025_compatible_{year}.hdf5\")\n",
    "        exposures_dict[age][year].gdf[\"impf_FI\"] = 1 \n",
    "        exposures_dict[age][year].gdf['longitude'] = exposures_dict[age][year].gdf['longitude'].apply(lambda x: x - 360 if x > 180 else x)\n",
    "        exposures_dict[age][year].gdf['value'][exposures_dict[age][year].gdf['value']<0] = 0\n"
   ]
  },
  {
   "cell_type": "code",
   "execution_count": 15,
   "id": "e57465f1-d44c-43b6-a413-fcca473f9686",
   "metadata": {},
   "outputs": [],
   "source": [
    "from climada.entity.impact_funcs import ImpactFunc, ImpactFuncSet\n",
    "\n",
    "impf_set = ImpactFuncSet()\n",
    "\n",
    "impf25 = ImpactFunc()\n",
    "impf25.id = 1\n",
    "impf25.haz_type = 'FI'\n",
    "impf25.name = 'Step function pm2.5'\n",
    "impf25.intensity_unit = ''\n",
    "impf25.intensity = np.array([0, 2.9e-8, 3e-8, 1]) #https://www.thelancet.com/journals/lanplh/article/piis2542-5196(21)00200-X/fulltext\n",
    "impf25.mdd = np.array([0, 0, 1, 1])\n",
    "impf25.paa = np.ones(impf25.intensity.shape)\n",
    "impf25.check()\n",
    "impf_set.append(impf25)"
   ]
  },
  {
   "cell_type": "code",
   "execution_count": 20,
   "id": "ccf79903-c85e-44af-b171-5836f6a9cf74",
   "metadata": {},
   "outputs": [
    {
     "name": "stdout",
     "output_type": "stream",
     "text": [
      "2024-08-22 11:23:13,811 - climada.engine.impact - WARNING - The Impact.tot_value attribute is deprecated.Use Exposures.affected_total_value to calculate the affected total exposure value based on a specific hazard intensity threshold\n",
      "2024-08-22 11:23:13,823 - climada.engine.impact - WARNING - The Impact.tot_value attribute is deprecated.Use Exposures.affected_total_value to calculate the affected total exposure value based on a specific hazard intensity threshold\n",
      "2024-08-22 11:23:13,825 - climada.engine.impact - WARNING - The Impact.tot_value attribute is deprecated.Use Exposures.affected_total_value to calculate the affected total exposure value based on a specific hazard intensity threshold\n",
      "2024-08-22 11:23:13,825 - climada.engine.impact - WARNING - The Impact.tot_value attribute is deprecated.Use Exposures.affected_total_value to calculate the affected total exposure value based on a specific hazard intensity threshold\n",
      "2024-08-22 11:23:13,826 - climada.engine.impact - WARNING - The Impact.tot_value attribute is deprecated.Use Exposures.affected_total_value to calculate the affected total exposure value based on a specific hazard intensity threshold\n",
      "2024-08-22 11:23:13,826 - climada.engine.impact - WARNING - The Impact.tot_value attribute is deprecated.Use Exposures.affected_total_value to calculate the affected total exposure value based on a specific hazard intensity threshold\n",
      "2024-08-22 11:23:13,827 - climada.engine.impact - WARNING - The Impact.tot_value attribute is deprecated.Use Exposures.affected_total_value to calculate the affected total exposure value based on a specific hazard intensity threshold\n",
      "2024-08-22 11:23:13,828 - climada.engine.impact - WARNING - The Impact.tot_value attribute is deprecated.Use Exposures.affected_total_value to calculate the affected total exposure value based on a specific hazard intensity threshold\n",
      "2024-08-22 11:23:13,828 - climada.engine.impact - WARNING - The Impact.tot_value attribute is deprecated.Use Exposures.affected_total_value to calculate the affected total exposure value based on a specific hazard intensity threshold\n",
      "2024-08-22 11:23:13,829 - climada.engine.impact - WARNING - The Impact.tot_value attribute is deprecated.Use Exposures.affected_total_value to calculate the affected total exposure value based on a specific hazard intensity threshold\n",
      "2024-08-22 11:23:13,834 - climada.engine.impact - WARNING - The Impact.tot_value attribute is deprecated.Use Exposures.affected_total_value to calculate the affected total exposure value based on a specific hazard intensity threshold\n",
      "2024-08-22 11:23:13,835 - climada.engine.impact - WARNING - The Impact.tot_value attribute is deprecated.Use Exposures.affected_total_value to calculate the affected total exposure value based on a specific hazard intensity threshold\n",
      "2024-08-22 11:23:13,848 - climada.engine.impact - WARNING - The Impact.tot_value attribute is deprecated.Use Exposures.affected_total_value to calculate the affected total exposure value based on a specific hazard intensity threshold\n",
      "2024-08-22 11:23:13,850 - climada.engine.impact - WARNING - The Impact.tot_value attribute is deprecated.Use Exposures.affected_total_value to calculate the affected total exposure value based on a specific hazard intensity threshold\n",
      "2024-08-22 11:23:13,850 - climada.engine.impact - WARNING - The Impact.tot_value attribute is deprecated.Use Exposures.affected_total_value to calculate the affected total exposure value based on a specific hazard intensity threshold\n",
      "2024-08-22 11:23:13,851 - climada.engine.impact - WARNING - The Impact.tot_value attribute is deprecated.Use Exposures.affected_total_value to calculate the affected total exposure value based on a specific hazard intensity threshold\n",
      "2024-08-22 11:23:13,851 - climada.engine.impact - WARNING - The Impact.tot_value attribute is deprecated.Use Exposures.affected_total_value to calculate the affected total exposure value based on a specific hazard intensity threshold\n",
      "2024-08-22 11:23:13,852 - climada.engine.impact - WARNING - The Impact.tot_value attribute is deprecated.Use Exposures.affected_total_value to calculate the affected total exposure value based on a specific hazard intensity threshold\n",
      "2024-08-22 11:23:13,853 - climada.engine.impact - WARNING - The Impact.tot_value attribute is deprecated.Use Exposures.affected_total_value to calculate the affected total exposure value based on a specific hazard intensity threshold\n",
      "2024-08-22 11:23:13,853 - climada.engine.impact - WARNING - The Impact.tot_value attribute is deprecated.Use Exposures.affected_total_value to calculate the affected total exposure value based on a specific hazard intensity threshold\n",
      "2024-08-22 11:23:13,854 - climada.engine.impact - WARNING - The Impact.tot_value attribute is deprecated.Use Exposures.affected_total_value to calculate the affected total exposure value based on a specific hazard intensity threshold\n",
      "2024-08-22 11:23:13,854 - climada.engine.impact - WARNING - The Impact.tot_value attribute is deprecated.Use Exposures.affected_total_value to calculate the affected total exposure value based on a specific hazard intensity threshold\n",
      "2024-08-22 11:23:13,855 - climada.engine.impact - WARNING - The Impact.tot_value attribute is deprecated.Use Exposures.affected_total_value to calculate the affected total exposure value based on a specific hazard intensity threshold\n",
      "2024-08-22 11:23:13,855 - climada.engine.impact - WARNING - The Impact.tot_value attribute is deprecated.Use Exposures.affected_total_value to calculate the affected total exposure value based on a specific hazard intensity threshold\n",
      "2024-08-22 11:23:13,856 - climada.engine.impact - WARNING - The Impact.tot_value attribute is deprecated.Use Exposures.affected_total_value to calculate the affected total exposure value based on a specific hazard intensity threshold\n",
      "2024-08-22 11:23:13,856 - climada.engine.impact - WARNING - The Impact.tot_value attribute is deprecated.Use Exposures.affected_total_value to calculate the affected total exposure value based on a specific hazard intensity threshold\n",
      "2024-08-22 11:23:13,857 - climada.engine.impact - WARNING - The Impact.tot_value attribute is deprecated.Use Exposures.affected_total_value to calculate the affected total exposure value based on a specific hazard intensity threshold\n",
      "2024-08-22 11:23:13,857 - climada.engine.impact - WARNING - The Impact.tot_value attribute is deprecated.Use Exposures.affected_total_value to calculate the affected total exposure value based on a specific hazard intensity threshold\n",
      "2024-08-22 11:23:13,859 - climada.engine.impact - WARNING - The Impact.tot_value attribute is deprecated.Use Exposures.affected_total_value to calculate the affected total exposure value based on a specific hazard intensity threshold\n",
      "2024-08-22 11:23:13,859 - climada.engine.impact - WARNING - The Impact.tot_value attribute is deprecated.Use Exposures.affected_total_value to calculate the affected total exposure value based on a specific hazard intensity threshold\n",
      "2024-08-22 11:23:13,860 - climada.engine.impact - WARNING - The Impact.tot_value attribute is deprecated.Use Exposures.affected_total_value to calculate the affected total exposure value based on a specific hazard intensity threshold\n",
      "2024-08-22 11:23:13,861 - climada.engine.impact - WARNING - The Impact.tot_value attribute is deprecated.Use Exposures.affected_total_value to calculate the affected total exposure value based on a specific hazard intensity threshold\n",
      "2024-08-22 11:23:13,861 - climada.engine.impact - WARNING - The Impact.tot_value attribute is deprecated.Use Exposures.affected_total_value to calculate the affected total exposure value based on a specific hazard intensity threshold\n",
      "2024-08-22 11:23:13,862 - climada.engine.impact - WARNING - The Impact.tot_value attribute is deprecated.Use Exposures.affected_total_value to calculate the affected total exposure value based on a specific hazard intensity threshold\n",
      "2024-08-22 11:23:13,863 - climada.engine.impact - WARNING - The Impact.tot_value attribute is deprecated.Use Exposures.affected_total_value to calculate the affected total exposure value based on a specific hazard intensity threshold\n",
      "2024-08-22 11:23:13,863 - climada.engine.impact - WARNING - The Impact.tot_value attribute is deprecated.Use Exposures.affected_total_value to calculate the affected total exposure value based on a specific hazard intensity threshold\n",
      "2024-08-22 11:23:13,863 - climada.engine.impact - WARNING - The Impact.tot_value attribute is deprecated.Use Exposures.affected_total_value to calculate the affected total exposure value based on a specific hazard intensity threshold\n",
      "2024-08-22 11:23:13,864 - climada.engine.impact - WARNING - The Impact.tot_value attribute is deprecated.Use Exposures.affected_total_value to calculate the affected total exposure value based on a specific hazard intensity threshold\n",
      "2024-08-22 11:23:13,865 - climada.engine.impact - WARNING - The Impact.tot_value attribute is deprecated.Use Exposures.affected_total_value to calculate the affected total exposure value based on a specific hazard intensity threshold\n",
      "2024-08-22 11:23:13,865 - climada.engine.impact - WARNING - The Impact.tot_value attribute is deprecated.Use Exposures.affected_total_value to calculate the affected total exposure value based on a specific hazard intensity threshold\n",
      "2024-08-22 11:23:13,866 - climada.engine.impact - WARNING - The Impact.tot_value attribute is deprecated.Use Exposures.affected_total_value to calculate the affected total exposure value based on a specific hazard intensity threshold\n",
      "2024-08-22 11:23:13,867 - climada.engine.impact - WARNING - The Impact.tot_value attribute is deprecated.Use Exposures.affected_total_value to calculate the affected total exposure value based on a specific hazard intensity threshold\n",
      "2024-08-22 11:23:13,868 - climada.engine.impact - WARNING - The Impact.tot_value attribute is deprecated.Use Exposures.affected_total_value to calculate the affected total exposure value based on a specific hazard intensity threshold\n",
      "2024-08-22 11:23:13,868 - climada.engine.impact - WARNING - The Impact.tot_value attribute is deprecated.Use Exposures.affected_total_value to calculate the affected total exposure value based on a specific hazard intensity threshold\n",
      "2024-08-22 11:23:13,869 - climada.engine.impact - WARNING - The Impact.tot_value attribute is deprecated.Use Exposures.affected_total_value to calculate the affected total exposure value based on a specific hazard intensity threshold\n",
      "2024-08-22 11:23:13,869 - climada.engine.impact - WARNING - The Impact.tot_value attribute is deprecated.Use Exposures.affected_total_value to calculate the affected total exposure value based on a specific hazard intensity threshold\n",
      "2024-08-22 11:23:13,871 - climada.engine.impact - WARNING - The Impact.tot_value attribute is deprecated.Use Exposures.affected_total_value to calculate the affected total exposure value based on a specific hazard intensity threshold\n",
      "2024-08-22 11:23:13,871 - climada.engine.impact - WARNING - The Impact.tot_value attribute is deprecated.Use Exposures.affected_total_value to calculate the affected total exposure value based on a specific hazard intensity threshold\n",
      "2024-08-22 11:23:13,873 - climada.engine.impact - WARNING - The Impact.tot_value attribute is deprecated.Use Exposures.affected_total_value to calculate the affected total exposure value based on a specific hazard intensity threshold\n",
      "2024-08-22 11:23:13,874 - climada.engine.impact - WARNING - The Impact.tot_value attribute is deprecated.Use Exposures.affected_total_value to calculate the affected total exposure value based on a specific hazard intensity threshold\n",
      "2024-08-22 11:23:13,874 - climada.engine.impact - WARNING - The Impact.tot_value attribute is deprecated.Use Exposures.affected_total_value to calculate the affected total exposure value based on a specific hazard intensity threshold\n",
      "2024-08-22 11:23:13,874 - climada.engine.impact - WARNING - The Impact.tot_value attribute is deprecated.Use Exposures.affected_total_value to calculate the affected total exposure value based on a specific hazard intensity threshold\n",
      "2024-08-22 11:23:13,876 - climada.engine.impact - WARNING - The Impact.tot_value attribute is deprecated.Use Exposures.affected_total_value to calculate the affected total exposure value based on a specific hazard intensity threshold\n",
      "2024-08-22 11:23:13,876 - climada.engine.impact - WARNING - The Impact.tot_value attribute is deprecated.Use Exposures.affected_total_value to calculate the affected total exposure value based on a specific hazard intensity threshold\n",
      "2024-08-22 11:23:13,877 - climada.engine.impact - WARNING - The Impact.tot_value attribute is deprecated.Use Exposures.affected_total_value to calculate the affected total exposure value based on a specific hazard intensity threshold\n",
      "2024-08-22 11:23:13,878 - climada.engine.impact - WARNING - The Impact.tot_value attribute is deprecated.Use Exposures.affected_total_value to calculate the affected total exposure value based on a specific hazard intensity threshold\n",
      "2024-08-22 11:23:13,878 - climada.engine.impact - WARNING - The Impact.tot_value attribute is deprecated.Use Exposures.affected_total_value to calculate the affected total exposure value based on a specific hazard intensity threshold\n"
     ]
    }
   ],
   "source": [
    "from climada.engine import Impact, ImpactCalc\n",
    "\n",
    "impact_dict = {age: {year:ImpactCalc(exposures_dict[age][str(year)], impf_set, yearly_hazards[int(year)]).impact(save_mat=True) for year in exposures_dict[age]} for age in exposures_dict}\n",
    "\n",
    "\n",
    "impact_dict_no_change_vuln_pop = {age: {year:ImpactCalc(exposures_dict[age]['2003'], impf_set, yearly_hazards[int(year)]).impact(save_mat=True) for year in exposures_dict[age]} for age in exposures_dict}\n",
    "\n",
    "for age in impact_dict_no_change_vuln_pop:\n",
    "    for year in impact_dict_no_change_vuln_pop[age]:\n",
    "        #impact_dict[age][year].tot_value=0\n",
    "        impact_dict_no_change_vuln_pop[age][year].tot_value=0\n",
    "\n"
   ]
  },
  {
   "cell_type": "code",
   "execution_count": null,
   "id": "871fb144-e0ce-4c36-aa73-8ce724ac1525",
   "metadata": {},
   "outputs": [
    {
     "name": "stdout",
     "output_type": "stream",
     "text": [
      "2024-08-22 11:29:01,779 - climada.engine.impact - WARNING - The Impact.tot_value attribute is deprecated.Use Exposures.affected_total_value to calculate the affected total exposure value based on a specific hazard intensity threshold\n",
      "2024-08-22 11:29:01,781 - climada.engine.impact - WARNING - The Impact.tot_value attribute is deprecated.Use Exposures.affected_total_value to calculate the affected total exposure value based on a specific hazard intensity threshold\n",
      "2024-08-22 11:29:01,781 - climada.engine.impact - WARNING - The Impact.tot_value attribute is deprecated.Use Exposures.affected_total_value to calculate the affected total exposure value based on a specific hazard intensity threshold\n",
      "2024-08-22 11:29:01,781 - climada.engine.impact - WARNING - The Impact.tot_value attribute is deprecated.Use Exposures.affected_total_value to calculate the affected total exposure value based on a specific hazard intensity threshold\n",
      "2024-08-22 11:29:01,782 - climada.engine.impact - WARNING - The Impact.tot_value attribute is deprecated.Use Exposures.affected_total_value to calculate the affected total exposure value based on a specific hazard intensity threshold\n",
      "2024-08-22 11:29:01,782 - climada.engine.impact - WARNING - The Impact.tot_value attribute is deprecated.Use Exposures.affected_total_value to calculate the affected total exposure value based on a specific hazard intensity threshold\n",
      "2024-08-22 11:29:01,782 - climada.engine.impact - WARNING - The Impact.tot_value attribute is deprecated.Use Exposures.affected_total_value to calculate the affected total exposure value based on a specific hazard intensity threshold\n",
      "2024-08-22 11:29:01,782 - climada.engine.impact - WARNING - The Impact.tot_value attribute is deprecated.Use Exposures.affected_total_value to calculate the affected total exposure value based on a specific hazard intensity threshold\n",
      "2024-08-22 11:29:01,783 - climada.engine.impact - WARNING - The Impact.tot_value attribute is deprecated.Use Exposures.affected_total_value to calculate the affected total exposure value based on a specific hazard intensity threshold\n",
      "2024-08-22 11:29:01,783 - climada.engine.impact - WARNING - The Impact.tot_value attribute is deprecated.Use Exposures.affected_total_value to calculate the affected total exposure value based on a specific hazard intensity threshold\n",
      "2024-08-22 11:29:01,783 - climada.engine.impact - WARNING - The Impact.tot_value attribute is deprecated.Use Exposures.affected_total_value to calculate the affected total exposure value based on a specific hazard intensity threshold\n",
      "2024-08-22 11:29:01,784 - climada.engine.impact - WARNING - The Impact.tot_value attribute is deprecated.Use Exposures.affected_total_value to calculate the affected total exposure value based on a specific hazard intensity threshold\n",
      "2024-08-22 11:29:01,784 - climada.engine.impact - WARNING - The Impact.tot_value attribute is deprecated.Use Exposures.affected_total_value to calculate the affected total exposure value based on a specific hazard intensity threshold\n",
      "2024-08-22 11:29:01,784 - climada.engine.impact - WARNING - The Impact.tot_value attribute is deprecated.Use Exposures.affected_total_value to calculate the affected total exposure value based on a specific hazard intensity threshold\n",
      "2024-08-22 11:29:01,784 - climada.engine.impact - WARNING - The Impact.tot_value attribute is deprecated.Use Exposures.affected_total_value to calculate the affected total exposure value based on a specific hazard intensity threshold\n",
      "2024-08-22 11:29:01,785 - climada.engine.impact - WARNING - The Impact.tot_value attribute is deprecated.Use Exposures.affected_total_value to calculate the affected total exposure value based on a specific hazard intensity threshold\n",
      "2024-08-22 11:29:01,785 - climada.engine.impact - WARNING - The Impact.tot_value attribute is deprecated.Use Exposures.affected_total_value to calculate the affected total exposure value based on a specific hazard intensity threshold\n",
      "2024-08-22 11:29:01,785 - climada.engine.impact - WARNING - The Impact.tot_value attribute is deprecated.Use Exposures.affected_total_value to calculate the affected total exposure value based on a specific hazard intensity threshold\n",
      "2024-08-22 11:29:01,785 - climada.engine.impact - WARNING - The Impact.tot_value attribute is deprecated.Use Exposures.affected_total_value to calculate the affected total exposure value based on a specific hazard intensity threshold\n",
      "2024-08-22 11:29:01,785 - climada.engine.impact - WARNING - The Impact.tot_value attribute is deprecated.Use Exposures.affected_total_value to calculate the affected total exposure value based on a specific hazard intensity threshold\n",
      "2024-08-22 11:29:01,786 - climada.engine.impact - WARNING - The Impact.tot_value attribute is deprecated.Use Exposures.affected_total_value to calculate the affected total exposure value based on a specific hazard intensity threshold\n",
      "2024-08-22 11:29:01,786 - climada.engine.impact - WARNING - The Impact.tot_value attribute is deprecated.Use Exposures.affected_total_value to calculate the affected total exposure value based on a specific hazard intensity threshold\n",
      "2024-08-22 11:29:01,786 - climada.engine.impact - WARNING - The Impact.tot_value attribute is deprecated.Use Exposures.affected_total_value to calculate the affected total exposure value based on a specific hazard intensity threshold\n",
      "2024-08-22 11:29:01,786 - climada.engine.impact - WARNING - The Impact.tot_value attribute is deprecated.Use Exposures.affected_total_value to calculate the affected total exposure value based on a specific hazard intensity threshold\n",
      "2024-08-22 11:29:01,787 - climada.engine.impact - WARNING - The Impact.tot_value attribute is deprecated.Use Exposures.affected_total_value to calculate the affected total exposure value based on a specific hazard intensity threshold\n",
      "2024-08-22 11:29:01,787 - climada.engine.impact - WARNING - The Impact.tot_value attribute is deprecated.Use Exposures.affected_total_value to calculate the affected total exposure value based on a specific hazard intensity threshold\n",
      "2024-08-22 11:29:01,787 - climada.engine.impact - WARNING - The Impact.tot_value attribute is deprecated.Use Exposures.affected_total_value to calculate the affected total exposure value based on a specific hazard intensity threshold\n",
      "2024-08-22 11:29:01,788 - climada.engine.impact - WARNING - The Impact.tot_value attribute is deprecated.Use Exposures.affected_total_value to calculate the affected total exposure value based on a specific hazard intensity threshold\n",
      "2024-08-22 11:29:01,788 - climada.engine.impact - WARNING - The Impact.tot_value attribute is deprecated.Use Exposures.affected_total_value to calculate the affected total exposure value based on a specific hazard intensity threshold\n",
      "2024-08-22 11:29:01,788 - climada.engine.impact - WARNING - The Impact.tot_value attribute is deprecated.Use Exposures.affected_total_value to calculate the affected total exposure value based on a specific hazard intensity threshold\n",
      "2024-08-22 11:29:01,788 - climada.engine.impact - WARNING - The Impact.tot_value attribute is deprecated.Use Exposures.affected_total_value to calculate the affected total exposure value based on a specific hazard intensity threshold\n",
      "2024-08-22 11:29:01,788 - climada.engine.impact - WARNING - The Impact.tot_value attribute is deprecated.Use Exposures.affected_total_value to calculate the affected total exposure value based on a specific hazard intensity threshold\n",
      "2024-08-22 11:29:01,789 - climada.engine.impact - WARNING - The Impact.tot_value attribute is deprecated.Use Exposures.affected_total_value to calculate the affected total exposure value based on a specific hazard intensity threshold\n",
      "2024-08-22 11:29:01,789 - climada.engine.impact - WARNING - The Impact.tot_value attribute is deprecated.Use Exposures.affected_total_value to calculate the affected total exposure value based on a specific hazard intensity threshold\n",
      "2024-08-22 11:29:01,789 - climada.engine.impact - WARNING - The Impact.tot_value attribute is deprecated.Use Exposures.affected_total_value to calculate the affected total exposure value based on a specific hazard intensity threshold\n",
      "2024-08-22 11:29:01,789 - climada.engine.impact - WARNING - The Impact.tot_value attribute is deprecated.Use Exposures.affected_total_value to calculate the affected total exposure value based on a specific hazard intensity threshold\n",
      "2024-08-22 11:29:01,790 - climada.engine.impact - WARNING - The Impact.tot_value attribute is deprecated.Use Exposures.affected_total_value to calculate the affected total exposure value based on a specific hazard intensity threshold\n",
      "2024-08-22 11:29:01,790 - climada.engine.impact - WARNING - The Impact.tot_value attribute is deprecated.Use Exposures.affected_total_value to calculate the affected total exposure value based on a specific hazard intensity threshold\n",
      "2024-08-22 11:29:01,790 - climada.engine.impact - WARNING - The Impact.tot_value attribute is deprecated.Use Exposures.affected_total_value to calculate the affected total exposure value based on a specific hazard intensity threshold\n",
      "2024-08-22 11:29:01,790 - climada.engine.impact - WARNING - The Impact.tot_value attribute is deprecated.Use Exposures.affected_total_value to calculate the affected total exposure value based on a specific hazard intensity threshold\n",
      "2024-08-22 11:29:01,790 - climada.engine.impact - WARNING - The Impact.tot_value attribute is deprecated.Use Exposures.affected_total_value to calculate the affected total exposure value based on a specific hazard intensity threshold\n",
      "2024-08-22 11:29:01,791 - climada.engine.impact - WARNING - The Impact.tot_value attribute is deprecated.Use Exposures.affected_total_value to calculate the affected total exposure value based on a specific hazard intensity threshold\n",
      "2024-08-22 11:29:01,791 - climada.engine.impact - WARNING - The Impact.tot_value attribute is deprecated.Use Exposures.affected_total_value to calculate the affected total exposure value based on a specific hazard intensity threshold\n",
      "2024-08-22 11:29:01,791 - climada.engine.impact - WARNING - The Impact.tot_value attribute is deprecated.Use Exposures.affected_total_value to calculate the affected total exposure value based on a specific hazard intensity threshold\n",
      "2024-08-22 11:29:01,791 - climada.engine.impact - WARNING - The Impact.tot_value attribute is deprecated.Use Exposures.affected_total_value to calculate the affected total exposure value based on a specific hazard intensity threshold\n"
     ]
    }
   ],
   "source": [
    "from climada.engine import Impact, ImpactCalc\n",
    "\n",
    "impact_dict = {age: {year:ImpactCalc(exposures_dict[age][str(year)], impf_set, yearly_hazards[int(year)]).impact(save_mat=True) for year in exposures_dict[age]} for age in exposures_dict}\n",
    "\n",
    "\n",
    "impact_dict_no_change_vuln_pop = {age: {year:ImpactCalc(exposures_dict[age]['2003'], impf_set, yearly_hazards[int(year)]).impact(save_mat=True) for year in exposures_dict[age]} for age in exposures_dict}\n",
    "\n",
    "for age in impact_dict_no_change_vuln_pop:\n",
    "    for year in impact_dict_no_change_vuln_pop[age]:\n",
    "        impact_dict[age][year].tot_value=0\n",
    "        impact_dict_no_change_vuln_pop[age][year].tot_value=0\n",
    "\n"
   ]
  },
  {
   "cell_type": "code",
   "execution_count": null,
   "id": "159e66ad-9e60-46bd-ace3-e6656b051473",
   "metadata": {
    "scrolled": true
   },
   "outputs": [],
   "source": [
    "impact_concat = {}\n",
    "impact_concat_no_change_vuln_pop = {}\n",
    "\n",
    "impact_concat_no_change_vuln_pop = {}\n",
    "for age in impact_dict_no_change_vuln_pop:\n",
    "    impact_concat[age] = Impact.concat(list(impact_dict[age].values()),reset_event_ids=True)\n",
    "\n",
    "    impact_concat_no_change_vuln_pop[age] = Impact.concat(list(impact_dict_no_change_vuln_pop[age].values()),reset_event_ids=True)"
   ]
  },
  {
   "cell_type": "code",
   "execution_count": null,
   "id": "c3a336f3-cac3-47d0-a7ae-f53d12be6fdc",
   "metadata": {},
   "outputs": [],
   "source": [
    "\n",
    "for age in impact_dict:\n",
    "    write_impact(impact_concat_no_change_vuln_pop[age], 'FI_ec', age)\n",
    "    write_impact(impact_concat[age], 'FI', age)"
   ]
  }
 ],
 "metadata": {
  "kernelspec": {
   "display_name": "Python 3 (ipykernel)",
   "language": "python",
   "name": "python3"
  },
  "language_info": {
   "codemirror_mode": {
    "name": "ipython",
    "version": 3
   },
   "file_extension": ".py",
   "mimetype": "text/x-python",
   "name": "python",
   "nbconvert_exporter": "python",
   "pygments_lexer": "ipython3",
   "version": "3.11.6"
  }
 },
 "nbformat": 4,
 "nbformat_minor": 5
}
