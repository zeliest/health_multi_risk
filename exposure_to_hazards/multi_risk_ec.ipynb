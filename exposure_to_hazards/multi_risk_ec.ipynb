{
 "cells": [
  {
   "cell_type": "code",
   "execution_count": 1,
   "id": "6723b3fb-7820-4294-a83c-d56440436e34",
   "metadata": {},
   "outputs": [],
   "source": [
    "# this notebook does the same as the one titled \"multi_risk\", but with exposure constant at 2003 levels."
   ]
  },
  {
   "cell_type": "code",
   "execution_count": 2,
   "id": "5ccbd6ff-f9e8-4906-a018-1d18f62f08ba",
   "metadata": {},
   "outputs": [],
   "source": [
    " from climada.engine import Impact"
   ]
  },
  {
   "cell_type": "code",
   "execution_count": 3,
   "id": "e6fc61c9-6221-4d92-9b6e-9188e7ba32f6",
   "metadata": {},
   "outputs": [],
   "source": [
    "from pathlib import Path\n",
    "from calculate_exposure_to_haz import *"
   ]
  },
  {
   "cell_type": "code",
   "execution_count": 4,
   "id": "ea11e524-3ad6-446b-82e3-9d83b15c9965",
   "metadata": {},
   "outputs": [
    {
     "name": "stdout",
     "output_type": "stream",
     "text": [
      "2024-08-28 16:52:30,129 - climada.engine.impact - WARNING - The Impact.tot_value attribute is deprecated.Use Exposures.affected_total_value to calculate the affected total exposure value based on a specific hazard intensity threshold\n"
     ]
    },
    {
     "name": "stderr",
     "output_type": "stream",
     "text": [
      "/Users/szelie/python_projects/climada_python/climada/engine/impact.py:1081: DtypeWarning: Columns (0,1,5,8,13) have mixed types. Specify dtype option on import or set low_memory=False.\n",
      "  imp_df = pd.read_csv(file_name)\n"
     ]
    },
    {
     "name": "stdout",
     "output_type": "stream",
     "text": [
      "2024-08-28 16:52:30,802 - climada.engine.impact - WARNING - The Impact.tot_value attribute is deprecated.Use Exposures.affected_total_value to calculate the affected total exposure value based on a specific hazard intensity threshold\n"
     ]
    },
    {
     "name": "stderr",
     "output_type": "stream",
     "text": [
      "/Users/szelie/python_projects/climada_python/climada/engine/impact.py:1081: DtypeWarning: Columns (1,5,8,13) have mixed types. Specify dtype option on import or set low_memory=False.\n",
      "  imp_df = pd.read_csv(file_name)\n"
     ]
    },
    {
     "name": "stdout",
     "output_type": "stream",
     "text": [
      "2024-08-28 16:52:31,409 - climada.engine.impact - WARNING - The Impact.tot_value attribute is deprecated.Use Exposures.affected_total_value to calculate the affected total exposure value based on a specific hazard intensity threshold\n"
     ]
    },
    {
     "name": "stderr",
     "output_type": "stream",
     "text": [
      "/Users/szelie/python_projects/climada_python/climada/engine/impact.py:1081: DtypeWarning: Columns (1,5,8,13) have mixed types. Specify dtype option on import or set low_memory=False.\n",
      "  imp_df = pd.read_csv(file_name)\n"
     ]
    },
    {
     "name": "stdout",
     "output_type": "stream",
     "text": [
      "2024-08-28 16:52:32,075 - climada.engine.impact - WARNING - The Impact.tot_value attribute is deprecated.Use Exposures.affected_total_value to calculate the affected total exposure value based on a specific hazard intensity threshold\n"
     ]
    },
    {
     "name": "stderr",
     "output_type": "stream",
     "text": [
      "/Users/szelie/python_projects/climada_python/climada/engine/impact.py:1081: DtypeWarning: Columns (1,8,13) have mixed types. Specify dtype option on import or set low_memory=False.\n",
      "  imp_df = pd.read_csv(file_name)\n"
     ]
    },
    {
     "name": "stdout",
     "output_type": "stream",
     "text": [
      "2024-08-28 16:52:32,684 - climada.engine.impact - WARNING - The Impact.tot_value attribute is deprecated.Use Exposures.affected_total_value to calculate the affected total exposure value based on a specific hazard intensity threshold\n"
     ]
    },
    {
     "name": "stderr",
     "output_type": "stream",
     "text": [
      "/Users/szelie/python_projects/climada_python/climada/engine/impact.py:1081: DtypeWarning: Columns (1,5,8,13) have mixed types. Specify dtype option on import or set low_memory=False.\n",
      "  imp_df = pd.read_csv(file_name)\n"
     ]
    },
    {
     "name": "stdout",
     "output_type": "stream",
     "text": [
      "2024-08-28 16:52:33,244 - climada.engine.impact - WARNING - The Impact.tot_value attribute is deprecated.Use Exposures.affected_total_value to calculate the affected total exposure value based on a specific hazard intensity threshold\n"
     ]
    },
    {
     "name": "stderr",
     "output_type": "stream",
     "text": [
      "/Users/szelie/python_projects/climada_python/climada/engine/impact.py:1081: DtypeWarning: Columns (1,5,8,13) have mixed types. Specify dtype option on import or set low_memory=False.\n",
      "  imp_df = pd.read_csv(file_name)\n"
     ]
    },
    {
     "name": "stdout",
     "output_type": "stream",
     "text": [
      "2024-08-28 16:52:33,847 - climada.engine.impact - WARNING - The Impact.tot_value attribute is deprecated.Use Exposures.affected_total_value to calculate the affected total exposure value based on a specific hazard intensity threshold\n"
     ]
    },
    {
     "name": "stderr",
     "output_type": "stream",
     "text": [
      "/Users/szelie/python_projects/climada_python/climada/engine/impact.py:1081: DtypeWarning: Columns (0,1,5,8,13) have mixed types. Specify dtype option on import or set low_memory=False.\n",
      "  imp_df = pd.read_csv(file_name)\n"
     ]
    },
    {
     "name": "stdout",
     "output_type": "stream",
     "text": [
      "2024-08-28 16:52:34,770 - climada.engine.impact - WARNING - The Impact.tot_value attribute is deprecated.Use Exposures.affected_total_value to calculate the affected total exposure value based on a specific hazard intensity threshold\n"
     ]
    },
    {
     "name": "stderr",
     "output_type": "stream",
     "text": [
      "/Users/szelie/python_projects/climada_python/climada/engine/impact.py:1081: DtypeWarning: Columns (1,5,8,13) have mixed types. Specify dtype option on import or set low_memory=False.\n",
      "  imp_df = pd.read_csv(file_name)\n"
     ]
    },
    {
     "name": "stdout",
     "output_type": "stream",
     "text": [
      "2024-08-28 16:52:35,891 - climada.engine.impact - WARNING - The Impact.tot_value attribute is deprecated.Use Exposures.affected_total_value to calculate the affected total exposure value based on a specific hazard intensity threshold\n"
     ]
    },
    {
     "name": "stderr",
     "output_type": "stream",
     "text": [
      "/Users/szelie/python_projects/climada_python/climada/engine/impact.py:1081: DtypeWarning: Columns (1,5,8,13) have mixed types. Specify dtype option on import or set low_memory=False.\n",
      "  imp_df = pd.read_csv(file_name)\n"
     ]
    },
    {
     "name": "stdout",
     "output_type": "stream",
     "text": [
      "2024-08-28 16:52:36,478 - climada.engine.impact - WARNING - The Impact.tot_value attribute is deprecated.Use Exposures.affected_total_value to calculate the affected total exposure value based on a specific hazard intensity threshold\n"
     ]
    },
    {
     "name": "stderr",
     "output_type": "stream",
     "text": [
      "/Users/szelie/python_projects/climada_python/climada/engine/impact.py:1081: DtypeWarning: Columns (1,8,13) have mixed types. Specify dtype option on import or set low_memory=False.\n",
      "  imp_df = pd.read_csv(file_name)\n"
     ]
    },
    {
     "name": "stdout",
     "output_type": "stream",
     "text": [
      "2024-08-28 16:52:38,002 - climada.engine.impact - WARNING - The Impact.tot_value attribute is deprecated.Use Exposures.affected_total_value to calculate the affected total exposure value based on a specific hazard intensity threshold\n"
     ]
    },
    {
     "name": "stderr",
     "output_type": "stream",
     "text": [
      "/Users/szelie/python_projects/climada_python/climada/engine/impact.py:1081: DtypeWarning: Columns (1,5,8,13) have mixed types. Specify dtype option on import or set low_memory=False.\n",
      "  imp_df = pd.read_csv(file_name)\n"
     ]
    },
    {
     "name": "stdout",
     "output_type": "stream",
     "text": [
      "2024-08-28 16:52:38,564 - climada.engine.impact - WARNING - The Impact.tot_value attribute is deprecated.Use Exposures.affected_total_value to calculate the affected total exposure value based on a specific hazard intensity threshold\n"
     ]
    },
    {
     "name": "stderr",
     "output_type": "stream",
     "text": [
      "/Users/szelie/python_projects/climada_python/climada/engine/impact.py:1081: DtypeWarning: Columns (1,5,8,13) have mixed types. Specify dtype option on import or set low_memory=False.\n",
      "  imp_df = pd.read_csv(file_name)\n"
     ]
    },
    {
     "name": "stdout",
     "output_type": "stream",
     "text": [
      "2024-08-28 16:52:39,198 - climada.engine.impact - WARNING - The Impact.tot_value attribute is deprecated.Use Exposures.affected_total_value to calculate the affected total exposure value based on a specific hazard intensity threshold\n"
     ]
    },
    {
     "name": "stderr",
     "output_type": "stream",
     "text": [
      "/Users/szelie/python_projects/climada_python/climada/engine/impact.py:1081: DtypeWarning: Columns (0,1,5,8,13) have mixed types. Specify dtype option on import or set low_memory=False.\n",
      "  imp_df = pd.read_csv(file_name)\n"
     ]
    },
    {
     "name": "stdout",
     "output_type": "stream",
     "text": [
      "2024-08-28 16:52:40,201 - climada.engine.impact - WARNING - The Impact.tot_value attribute is deprecated.Use Exposures.affected_total_value to calculate the affected total exposure value based on a specific hazard intensity threshold\n"
     ]
    },
    {
     "name": "stderr",
     "output_type": "stream",
     "text": [
      "/Users/szelie/python_projects/climada_python/climada/engine/impact.py:1081: DtypeWarning: Columns (1,5,8,13) have mixed types. Specify dtype option on import or set low_memory=False.\n",
      "  imp_df = pd.read_csv(file_name)\n"
     ]
    },
    {
     "name": "stdout",
     "output_type": "stream",
     "text": [
      "2024-08-28 16:52:41,381 - climada.engine.impact - WARNING - The Impact.tot_value attribute is deprecated.Use Exposures.affected_total_value to calculate the affected total exposure value based on a specific hazard intensity threshold\n"
     ]
    },
    {
     "name": "stderr",
     "output_type": "stream",
     "text": [
      "/Users/szelie/python_projects/climada_python/climada/engine/impact.py:1081: DtypeWarning: Columns (1,5,8,13) have mixed types. Specify dtype option on import or set low_memory=False.\n",
      "  imp_df = pd.read_csv(file_name)\n"
     ]
    },
    {
     "name": "stdout",
     "output_type": "stream",
     "text": [
      "2024-08-28 16:52:42,432 - climada.engine.impact - WARNING - The Impact.tot_value attribute is deprecated.Use Exposures.affected_total_value to calculate the affected total exposure value based on a specific hazard intensity threshold\n"
     ]
    },
    {
     "name": "stderr",
     "output_type": "stream",
     "text": [
      "/Users/szelie/python_projects/climada_python/climada/engine/impact.py:1081: DtypeWarning: Columns (1,8,13) have mixed types. Specify dtype option on import or set low_memory=False.\n",
      "  imp_df = pd.read_csv(file_name)\n"
     ]
    },
    {
     "name": "stdout",
     "output_type": "stream",
     "text": [
      "2024-08-28 16:52:43,536 - climada.engine.impact - WARNING - The Impact.tot_value attribute is deprecated.Use Exposures.affected_total_value to calculate the affected total exposure value based on a specific hazard intensity threshold\n"
     ]
    },
    {
     "name": "stderr",
     "output_type": "stream",
     "text": [
      "/Users/szelie/python_projects/climada_python/climada/engine/impact.py:1081: DtypeWarning: Columns (1,5,8,13) have mixed types. Specify dtype option on import or set low_memory=False.\n",
      "  imp_df = pd.read_csv(file_name)\n"
     ]
    },
    {
     "name": "stdout",
     "output_type": "stream",
     "text": [
      "2024-08-28 16:52:44,550 - climada.engine.impact - WARNING - The Impact.tot_value attribute is deprecated.Use Exposures.affected_total_value to calculate the affected total exposure value based on a specific hazard intensity threshold\n"
     ]
    },
    {
     "name": "stderr",
     "output_type": "stream",
     "text": [
      "/Users/szelie/python_projects/climada_python/climada/engine/impact.py:1081: DtypeWarning: Columns (1,5,8,13) have mixed types. Specify dtype option on import or set low_memory=False.\n",
      "  imp_df = pd.read_csv(file_name)\n"
     ]
    }
   ],
   "source": [
    "ages = ['all','0_1','65_70_75_80']\n",
    "imp_dict = {}\n",
    "for age in ages:\n",
    "    imp_dict[age] = {}\n",
    "    for hazard_type in ['RF_ec','EP_ec','DR_ec','HW_ec','FI_ec', 'TC_ec']:\n",
    "        imp_dict[age][hazard_type] = read_impact(hazard_type, age)\n",
    "    imp_dict[age]['HW_ec'].date = imp_dict[age]['FI_ec'].date #to fix, some dates were a bit strange so we make sure we get the same for all\n",
    "    imp_dict[age]['EP_ec'].date = imp_dict[age]['FI_ec'].date #to fix"
   ]
  },
  {
   "cell_type": "code",
   "execution_count": 5,
   "id": "5aaa29d7-87ee-4e42-9987-a839d2c9d906",
   "metadata": {},
   "outputs": [],
   "source": [
    "from multi_risk_methods import upscale_dates, aggregate_events,calculate_combinations_dict\n"
   ]
  },
  {
   "cell_type": "code",
   "execution_count": 6,
   "id": "28dae8fc-677c-4f88-b3a4-cc523fae054d",
   "metadata": {
    "scrolled": true
   },
   "outputs": [],
   "source": [
    "imp_dict_aggr = {}\n",
    "for age in ages:#['all','0_1','65_70_75_80']:\n",
    "    imp_dict_aggr[age] = {impact: upscale_dates(imp_dict[age][impact], by='month') for impact in imp_dict[age]}\n",
    "    imp_dict_aggr[age] = {impact: aggregate_events(imp_dict_aggr[age][impact], how='max') for impact in imp_dict[age]}\n",
    "    #imp_dict= multi_risk.fill_impact_gaps(imp_dict)"
   ]
  },
  {
   "cell_type": "code",
   "execution_count": 7,
   "id": "17f70464-39c0-4a75-9c0b-5ef9fe03e6f5",
   "metadata": {},
   "outputs": [],
   "source": [
    "for age in ages:#['all','0_1','65_70_75_80']:\n",
    "    for hazard_type in imp_dict_aggr[age]:\n",
    "        ids = imp_dict_aggr[age][hazard_type].event_id[0:228]\n",
    "        imp_dict_aggr[age][hazard_type] = imp_dict_aggr[age][hazard_type].select(event_ids=ids)\n",
    "        imp_dict_aggr[age][hazard_type].date = imp_dict_aggr[age]['RF_ec'].date"
   ]
  },
  {
   "cell_type": "code",
   "execution_count": 8,
   "id": "3f508f12-48b8-4b0a-a03b-d2bcbe4d1833",
   "metadata": {},
   "outputs": [],
   "source": [
    "import pandas as pd"
   ]
  },
  {
   "cell_type": "code",
   "execution_count": 9,
   "id": "1e8aea52-39b8-4e6b-9cad-dc782a7ef735",
   "metadata": {},
   "outputs": [],
   "source": [
    "import itertools\n",
    "combinations = []\n",
    "for r in range(1, len(list(imp_dict_aggr[age].keys())) + 1):\n",
    "    combinations.extend(list(itertools.combinations(list(imp_dict_aggr[age].keys()), r)))\n",
    "\n",
    "combinations = [t for t in combinations if len(set(inner_t[0] for inner_t in t)) == 1]\n"
   ]
  },
  {
   "cell_type": "code",
   "execution_count": 10,
   "id": "87729038-5a1e-433f-bfc5-3af29e44b9f9",
   "metadata": {
    "scrolled": true,
    "tags": []
   },
   "outputs": [],
   "source": [
    "imp_combined= {}\n",
    "for age in imp_dict_aggr:\n",
    "    imp_combined[age] = calculate_combinations_dict(imp_dict_aggr[age], how='min', by='date', exp=None, combination_type='all')"
   ]
  },
  {
   "cell_type": "code",
   "execution_count": 11,
   "id": "ac2cfb07-6788-4fbf-9602-d07bd884d1c0",
   "metadata": {},
   "outputs": [],
   "source": [
    "for age in imp_combined:\n",
    "    for combi in imp_combined[age]:\n",
    "        write_impact(imp_combined[age][combi], f\"{combi}\", age)"
   ]
  },
  {
   "cell_type": "code",
   "execution_count": 12,
   "id": "706000a2-19af-4ec4-a55c-bc3fb48c8964",
   "metadata": {},
   "outputs": [
    {
     "data": {
      "text/plain": [
       "{'all': {'RF_ec': <climada.engine.impact.Impact at 0x196fc3f50>,\n",
       "  'EP_ec': <climada.engine.impact.Impact at 0x196fcc2d0>,\n",
       "  'DR_ec': <climada.engine.impact.Impact at 0x1a042bc50>,\n",
       "  'HW_ec': <climada.engine.impact.Impact at 0x192f4a090>,\n",
       "  'FI_ec': <climada.engine.impact.Impact at 0x1a042b050>,\n",
       "  'TC_ec': <climada.engine.impact.Impact at 0x1a0429e50>,\n",
       "  'RF_ec-EP_ec': <climada.engine.impact.Impact at 0x1a043b690>,\n",
       "  'RF_ec-DR_ec': <climada.engine.impact.Impact at 0x1a043b810>,\n",
       "  'RF_ec-HW_ec': <climada.engine.impact.Impact at 0x1a0438750>,\n",
       "  'RF_ec-FI_ec': <climada.engine.impact.Impact at 0x1a0439510>,\n",
       "  'RF_ec-TC_ec': <climada.engine.impact.Impact at 0x1a0439810>,\n",
       "  'EP_ec-DR_ec': <climada.engine.impact.Impact at 0x1a0438dd0>,\n",
       "  'EP_ec-HW_ec': <climada.engine.impact.Impact at 0x1a0439a10>,\n",
       "  'EP_ec-FI_ec': <climada.engine.impact.Impact at 0x1a043a750>,\n",
       "  'EP_ec-TC_ec': <climada.engine.impact.Impact at 0x1a0439e10>,\n",
       "  'DR_ec-HW_ec': <climada.engine.impact.Impact at 0x1a0439710>,\n",
       "  'DR_ec-FI_ec': <climada.engine.impact.Impact at 0x1a04f8e10>,\n",
       "  'DR_ec-TC_ec': <climada.engine.impact.Impact at 0x196fb32d0>,\n",
       "  'HW_ec-FI_ec': <climada.engine.impact.Impact at 0x1a0439bd0>,\n",
       "  'HW_ec-TC_ec': <climada.engine.impact.Impact at 0x1a043b950>,\n",
       "  'FI_ec-TC_ec': <climada.engine.impact.Impact at 0x1a043bdd0>,\n",
       "  'RF_ec-EP_ec-DR_ec': <climada.engine.impact.Impact at 0x1a04facd0>,\n",
       "  'RF_ec-EP_ec-HW_ec': <climada.engine.impact.Impact at 0x1a04fafd0>,\n",
       "  'RF_ec-EP_ec-FI_ec': <climada.engine.impact.Impact at 0x1a050cdd0>,\n",
       "  'RF_ec-EP_ec-TC_ec': <climada.engine.impact.Impact at 0x196fced50>,\n",
       "  'RF_ec-DR_ec-HW_ec': <climada.engine.impact.Impact at 0x1a04fb750>,\n",
       "  'RF_ec-DR_ec-FI_ec': <climada.engine.impact.Impact at 0x196fce9d0>,\n",
       "  'RF_ec-DR_ec-TC_ec': <climada.engine.impact.Impact at 0x1a04f9dd0>,\n",
       "  'RF_ec-HW_ec-FI_ec': <climada.engine.impact.Impact at 0x1a04fa0d0>,\n",
       "  'RF_ec-HW_ec-TC_ec': <climada.engine.impact.Impact at 0x196fce710>,\n",
       "  'RF_ec-FI_ec-TC_ec': <climada.engine.impact.Impact at 0x196fcf310>,\n",
       "  'EP_ec-DR_ec-HW_ec': <climada.engine.impact.Impact at 0x196fb0110>,\n",
       "  'EP_ec-DR_ec-FI_ec': <climada.engine.impact.Impact at 0x196fce0d0>,\n",
       "  'EP_ec-DR_ec-TC_ec': <climada.engine.impact.Impact at 0x196fcdf10>,\n",
       "  'EP_ec-HW_ec-FI_ec': <climada.engine.impact.Impact at 0x196fcddd0>,\n",
       "  'EP_ec-HW_ec-TC_ec': <climada.engine.impact.Impact at 0x196f9c8d0>,\n",
       "  'EP_ec-FI_ec-TC_ec': <climada.engine.impact.Impact at 0x10e1ede50>,\n",
       "  'DR_ec-HW_ec-FI_ec': <climada.engine.impact.Impact at 0x10e1c6390>,\n",
       "  'DR_ec-HW_ec-TC_ec': <climada.engine.impact.Impact at 0x1960da690>,\n",
       "  'DR_ec-FI_ec-TC_ec': <climada.engine.impact.Impact at 0x196f9ca90>,\n",
       "  'HW_ec-FI_ec-TC_ec': <climada.engine.impact.Impact at 0x1a042a850>,\n",
       "  'RF_ec-EP_ec-DR_ec-HW_ec': <climada.engine.impact.Impact at 0x1948c7350>,\n",
       "  'RF_ec-EP_ec-DR_ec-FI_ec': <climada.engine.impact.Impact at 0x1a050f2d0>,\n",
       "  'RF_ec-EP_ec-DR_ec-TC_ec': <climada.engine.impact.Impact at 0x196fcd590>,\n",
       "  'RF_ec-EP_ec-HW_ec-FI_ec': <climada.engine.impact.Impact at 0x19701d690>,\n",
       "  'RF_ec-EP_ec-HW_ec-TC_ec': <climada.engine.impact.Impact at 0x194f9d390>,\n",
       "  'RF_ec-EP_ec-FI_ec-TC_ec': <climada.engine.impact.Impact at 0x196fcf250>,\n",
       "  'RF_ec-DR_ec-HW_ec-FI_ec': <climada.engine.impact.Impact at 0x19701db50>,\n",
       "  'RF_ec-DR_ec-HW_ec-TC_ec': <climada.engine.impact.Impact at 0x196fcfb50>,\n",
       "  'RF_ec-DR_ec-FI_ec-TC_ec': <climada.engine.impact.Impact at 0x196fcc690>,\n",
       "  'RF_ec-HW_ec-FI_ec-TC_ec': <climada.engine.impact.Impact at 0x19701e610>,\n",
       "  'EP_ec-DR_ec-HW_ec-FI_ec': <climada.engine.impact.Impact at 0x196f9fe50>,\n",
       "  'EP_ec-DR_ec-HW_ec-TC_ec': <climada.engine.impact.Impact at 0x19701fc90>,\n",
       "  'EP_ec-DR_ec-FI_ec-TC_ec': <climada.engine.impact.Impact at 0x1a043c6d0>,\n",
       "  'EP_ec-HW_ec-FI_ec-TC_ec': <climada.engine.impact.Impact at 0x1a043e650>,\n",
       "  'DR_ec-HW_ec-FI_ec-TC_ec': <climada.engine.impact.Impact at 0x19701f050>,\n",
       "  'RF_ec-EP_ec-DR_ec-HW_ec-FI_ec': <climada.engine.impact.Impact at 0x10e1c7150>,\n",
       "  'RF_ec-EP_ec-DR_ec-HW_ec-TC_ec': <climada.engine.impact.Impact at 0x196f9d650>,\n",
       "  'RF_ec-EP_ec-DR_ec-FI_ec-TC_ec': <climada.engine.impact.Impact at 0x1a043cd10>,\n",
       "  'RF_ec-EP_ec-HW_ec-FI_ec-TC_ec': <climada.engine.impact.Impact at 0x1a043eed0>,\n",
       "  'RF_ec-DR_ec-HW_ec-FI_ec-TC_ec': <climada.engine.impact.Impact at 0x196ffccd0>,\n",
       "  'EP_ec-DR_ec-HW_ec-FI_ec-TC_ec': <climada.engine.impact.Impact at 0x1a0514e10>,\n",
       "  'RF_ec-EP_ec-DR_ec-HW_ec-FI_ec-TC_ec': <climada.engine.impact.Impact at 0x196fce050>},\n",
       " '0_1': {'RF_ec': <climada.engine.impact.Impact at 0x1a042b890>,\n",
       "  'EP_ec': <climada.engine.impact.Impact at 0x196fffb50>,\n",
       "  'DR_ec': <climada.engine.impact.Impact at 0x1a042ba90>,\n",
       "  'HW_ec': <climada.engine.impact.Impact at 0x1a043fb90>,\n",
       "  'FI_ec': <climada.engine.impact.Impact at 0x1a043ff90>,\n",
       "  'TC_ec': <climada.engine.impact.Impact at 0x196f9c550>,\n",
       "  'RF_ec-EP_ec': <climada.engine.impact.Impact at 0x19701e450>,\n",
       "  'RF_ec-DR_ec': <climada.engine.impact.Impact at 0x19701c910>,\n",
       "  'RF_ec-HW_ec': <climada.engine.impact.Impact at 0x196fcce10>,\n",
       "  'RF_ec-FI_ec': <climada.engine.impact.Impact at 0x1a043d410>,\n",
       "  'RF_ec-TC_ec': <climada.engine.impact.Impact at 0x19701f690>,\n",
       "  'EP_ec-DR_ec': <climada.engine.impact.Impact at 0x1a050f6d0>,\n",
       "  'EP_ec-HW_ec': <climada.engine.impact.Impact at 0x1a043f510>,\n",
       "  'EP_ec-FI_ec': <climada.engine.impact.Impact at 0x196fff450>,\n",
       "  'EP_ec-TC_ec': <climada.engine.impact.Impact at 0x1a043f2d0>,\n",
       "  'DR_ec-HW_ec': <climada.engine.impact.Impact at 0x1a043de10>,\n",
       "  'DR_ec-FI_ec': <climada.engine.impact.Impact at 0x1a04feb50>,\n",
       "  'DR_ec-TC_ec': <climada.engine.impact.Impact at 0x1a04ff810>,\n",
       "  'HW_ec-FI_ec': <climada.engine.impact.Impact at 0x1a04ffcd0>,\n",
       "  'HW_ec-TC_ec': <climada.engine.impact.Impact at 0x1a04fda10>,\n",
       "  'FI_ec-TC_ec': <climada.engine.impact.Impact at 0x10e1d9590>,\n",
       "  'RF_ec-EP_ec-DR_ec': <climada.engine.impact.Impact at 0x1a043b190>,\n",
       "  'RF_ec-EP_ec-HW_ec': <climada.engine.impact.Impact at 0x1a04381d0>,\n",
       "  'RF_ec-EP_ec-FI_ec': <climada.engine.impact.Impact at 0x1a04ff210>,\n",
       "  'RF_ec-EP_ec-TC_ec': <climada.engine.impact.Impact at 0x1a042a990>,\n",
       "  'RF_ec-DR_ec-HW_ec': <climada.engine.impact.Impact at 0x196fc2d10>,\n",
       "  'RF_ec-DR_ec-FI_ec': <climada.engine.impact.Impact at 0x1a04fe4d0>,\n",
       "  'RF_ec-DR_ec-TC_ec': <climada.engine.impact.Impact at 0x1a043b010>,\n",
       "  'RF_ec-HW_ec-FI_ec': <climada.engine.impact.Impact at 0x1a04f8690>,\n",
       "  'RF_ec-HW_ec-TC_ec': <climada.engine.impact.Impact at 0x196f9fb50>,\n",
       "  'RF_ec-FI_ec-TC_ec': <climada.engine.impact.Impact at 0x196fb1010>,\n",
       "  'EP_ec-DR_ec-HW_ec': <climada.engine.impact.Impact at 0x1a04f8590>,\n",
       "  'EP_ec-DR_ec-FI_ec': <climada.engine.impact.Impact at 0x196fc0050>,\n",
       "  'EP_ec-DR_ec-TC_ec': <climada.engine.impact.Impact at 0x196fb0310>,\n",
       "  'EP_ec-HW_ec-FI_ec': <climada.engine.impact.Impact at 0x1a04f8210>,\n",
       "  'EP_ec-HW_ec-TC_ec': <climada.engine.impact.Impact at 0x1a04f8c10>,\n",
       "  'EP_ec-FI_ec-TC_ec': <climada.engine.impact.Impact at 0x1a043fd10>,\n",
       "  'DR_ec-HW_ec-FI_ec': <climada.engine.impact.Impact at 0x1a0432310>,\n",
       "  'DR_ec-HW_ec-TC_ec': <climada.engine.impact.Impact at 0x1a0431490>,\n",
       "  'DR_ec-FI_ec-TC_ec': <climada.engine.impact.Impact at 0x10da7a0d0>,\n",
       "  'HW_ec-FI_ec-TC_ec': <climada.engine.impact.Impact at 0x193afa8d0>,\n",
       "  'RF_ec-EP_ec-DR_ec-HW_ec': <climada.engine.impact.Impact at 0x196fc2dd0>,\n",
       "  'RF_ec-EP_ec-DR_ec-FI_ec': <climada.engine.impact.Impact at 0x196fc2bd0>,\n",
       "  'RF_ec-EP_ec-DR_ec-TC_ec': <climada.engine.impact.Impact at 0x1a04f8f10>,\n",
       "  'RF_ec-EP_ec-HW_ec-FI_ec': <climada.engine.impact.Impact at 0x196fbfe50>,\n",
       "  'RF_ec-EP_ec-HW_ec-TC_ec': <climada.engine.impact.Impact at 0x1a0432290>,\n",
       "  'RF_ec-EP_ec-FI_ec-TC_ec': <climada.engine.impact.Impact at 0x1a04fbdd0>,\n",
       "  'RF_ec-DR_ec-HW_ec-FI_ec': <climada.engine.impact.Impact at 0x1a0431210>,\n",
       "  'RF_ec-DR_ec-HW_ec-TC_ec': <climada.engine.impact.Impact at 0x1960da5d0>,\n",
       "  'RF_ec-DR_ec-FI_ec-TC_ec': <climada.engine.impact.Impact at 0x10e1d9490>,\n",
       "  'RF_ec-HW_ec-FI_ec-TC_ec': <climada.engine.impact.Impact at 0x194c08390>,\n",
       "  'EP_ec-DR_ec-HW_ec-FI_ec': <climada.engine.impact.Impact at 0x196fb1790>,\n",
       "  'EP_ec-DR_ec-HW_ec-TC_ec': <climada.engine.impact.Impact at 0x1a0430190>,\n",
       "  'EP_ec-DR_ec-FI_ec-TC_ec': <climada.engine.impact.Impact at 0x1a0439850>,\n",
       "  'EP_ec-HW_ec-FI_ec-TC_ec': <climada.engine.impact.Impact at 0x196fb17d0>,\n",
       "  'DR_ec-HW_ec-FI_ec-TC_ec': <climada.engine.impact.Impact at 0x1a0432c10>,\n",
       "  'RF_ec-EP_ec-DR_ec-HW_ec-FI_ec': <climada.engine.impact.Impact at 0x194f60450>,\n",
       "  'RF_ec-EP_ec-DR_ec-HW_ec-TC_ec': <climada.engine.impact.Impact at 0x1a04f8c90>,\n",
       "  'RF_ec-EP_ec-DR_ec-FI_ec-TC_ec': <climada.engine.impact.Impact at 0x196fe8310>,\n",
       "  'RF_ec-EP_ec-HW_ec-FI_ec-TC_ec': <climada.engine.impact.Impact at 0x1a0432d90>,\n",
       "  'RF_ec-DR_ec-HW_ec-FI_ec-TC_ec': <climada.engine.impact.Impact at 0x1a043b790>,\n",
       "  'EP_ec-DR_ec-HW_ec-FI_ec-TC_ec': <climada.engine.impact.Impact at 0x1a0432790>,\n",
       "  'RF_ec-EP_ec-DR_ec-HW_ec-FI_ec-TC_ec': <climada.engine.impact.Impact at 0x196fe8d10>},\n",
       " '65_70_75_80': {'RF_ec': <climada.engine.impact.Impact at 0x1a0428b90>,\n",
       "  'EP_ec': <climada.engine.impact.Impact at 0x19701dc50>,\n",
       "  'DR_ec': <climada.engine.impact.Impact at 0x1a0438cd0>,\n",
       "  'HW_ec': <climada.engine.impact.Impact at 0x1a0438d50>,\n",
       "  'FI_ec': <climada.engine.impact.Impact at 0x1a04ffb10>,\n",
       "  'TC_ec': <climada.engine.impact.Impact at 0x196fbfed0>,\n",
       "  'RF_ec-EP_ec': <climada.engine.impact.Impact at 0x196fcfe90>,\n",
       "  'RF_ec-DR_ec': <climada.engine.impact.Impact at 0x196fcf190>,\n",
       "  'RF_ec-HW_ec': <climada.engine.impact.Impact at 0x193bc6f50>,\n",
       "  'RF_ec-FI_ec': <climada.engine.impact.Impact at 0x196fbfc10>,\n",
       "  'RF_ec-TC_ec': <climada.engine.impact.Impact at 0x19701e690>,\n",
       "  'EP_ec-DR_ec': <climada.engine.impact.Impact at 0x196fff050>,\n",
       "  'EP_ec-HW_ec': <climada.engine.impact.Impact at 0x1a0517f10>,\n",
       "  'EP_ec-FI_ec': <climada.engine.impact.Impact at 0x1a043cbd0>,\n",
       "  'EP_ec-TC_ec': <climada.engine.impact.Impact at 0x196fcca10>,\n",
       "  'DR_ec-HW_ec': <climada.engine.impact.Impact at 0x196fcd050>,\n",
       "  'DR_ec-FI_ec': <climada.engine.impact.Impact at 0x196ffd0d0>,\n",
       "  'DR_ec-TC_ec': <climada.engine.impact.Impact at 0x196fccd50>,\n",
       "  'HW_ec-FI_ec': <climada.engine.impact.Impact at 0x19701cad0>,\n",
       "  'HW_ec-TC_ec': <climada.engine.impact.Impact at 0x196f34b10>,\n",
       "  'FI_ec-TC_ec': <climada.engine.impact.Impact at 0x196fcc890>,\n",
       "  'RF_ec-EP_ec-DR_ec': <climada.engine.impact.Impact at 0x1a04fca10>,\n",
       "  'RF_ec-EP_ec-HW_ec': <climada.engine.impact.Impact at 0x196ffc410>,\n",
       "  'RF_ec-EP_ec-FI_ec': <climada.engine.impact.Impact at 0x1a043c690>,\n",
       "  'RF_ec-EP_ec-TC_ec': <climada.engine.impact.Impact at 0x196fbd2d0>,\n",
       "  'RF_ec-DR_ec-HW_ec': <climada.engine.impact.Impact at 0x19701c350>,\n",
       "  'RF_ec-DR_ec-FI_ec': <climada.engine.impact.Impact at 0x1a0432b90>,\n",
       "  'RF_ec-DR_ec-TC_ec': <climada.engine.impact.Impact at 0x196ffc650>,\n",
       "  'RF_ec-HW_ec-FI_ec': <climada.engine.impact.Impact at 0x1a043d710>,\n",
       "  'RF_ec-HW_ec-TC_ec': <climada.engine.impact.Impact at 0x19701d850>,\n",
       "  'RF_ec-FI_ec-TC_ec': <climada.engine.impact.Impact at 0x1a043d990>,\n",
       "  'EP_ec-DR_ec-HW_ec': <climada.engine.impact.Impact at 0x1a043dad0>,\n",
       "  'EP_ec-DR_ec-FI_ec': <climada.engine.impact.Impact at 0x1a050c8d0>,\n",
       "  'EP_ec-DR_ec-TC_ec': <climada.engine.impact.Impact at 0x1a04fcf10>,\n",
       "  'EP_ec-HW_ec-FI_ec': <climada.engine.impact.Impact at 0x196ffde50>,\n",
       "  'EP_ec-HW_ec-TC_ec': <climada.engine.impact.Impact at 0x1a04fe0d0>,\n",
       "  'EP_ec-FI_ec-TC_ec': <climada.engine.impact.Impact at 0x196fbe2d0>,\n",
       "  'DR_ec-HW_ec-FI_ec': <climada.engine.impact.Impact at 0x1a04fd510>,\n",
       "  'DR_ec-HW_ec-TC_ec': <climada.engine.impact.Impact at 0x19701e310>,\n",
       "  'DR_ec-FI_ec-TC_ec': <climada.engine.impact.Impact at 0x196fbe410>,\n",
       "  'HW_ec-FI_ec-TC_ec': <climada.engine.impact.Impact at 0x196ffe090>,\n",
       "  'RF_ec-EP_ec-DR_ec-HW_ec': <climada.engine.impact.Impact at 0x196fce910>,\n",
       "  'RF_ec-EP_ec-DR_ec-FI_ec': <climada.engine.impact.Impact at 0x1a04fea50>,\n",
       "  'RF_ec-EP_ec-DR_ec-TC_ec': <climada.engine.impact.Impact at 0x194f76e10>,\n",
       "  'RF_ec-EP_ec-HW_ec-FI_ec': <climada.engine.impact.Impact at 0x1a043eb10>,\n",
       "  'RF_ec-EP_ec-HW_ec-TC_ec': <climada.engine.impact.Impact at 0x1a0438050>,\n",
       "  'RF_ec-EP_ec-FI_ec-TC_ec': <climada.engine.impact.Impact at 0x1a043ec10>,\n",
       "  'RF_ec-DR_ec-HW_ec-FI_ec': <climada.engine.impact.Impact at 0x1964c1810>,\n",
       "  'RF_ec-DR_ec-HW_ec-TC_ec': <climada.engine.impact.Impact at 0x19701e890>,\n",
       "  'RF_ec-DR_ec-FI_ec-TC_ec': <climada.engine.impact.Impact at 0x1a043f990>,\n",
       "  'RF_ec-HW_ec-FI_ec-TC_ec': <climada.engine.impact.Impact at 0x10e1c7790>,\n",
       "  'EP_ec-DR_ec-HW_ec-FI_ec': <climada.engine.impact.Impact at 0x1a04ff9d0>,\n",
       "  'EP_ec-DR_ec-HW_ec-TC_ec': <climada.engine.impact.Impact at 0x10e1c41d0>,\n",
       "  'EP_ec-DR_ec-FI_ec-TC_ec': <climada.engine.impact.Impact at 0x1a043ed10>,\n",
       "  'EP_ec-HW_ec-FI_ec-TC_ec': <climada.engine.impact.Impact at 0x196ffc090>,\n",
       "  'DR_ec-HW_ec-FI_ec-TC_ec': <climada.engine.impact.Impact at 0x19701c390>,\n",
       "  'RF_ec-EP_ec-DR_ec-HW_ec-FI_ec': <climada.engine.impact.Impact at 0x196fff950>,\n",
       "  'RF_ec-EP_ec-DR_ec-HW_ec-TC_ec': <climada.engine.impact.Impact at 0x1a04fc210>,\n",
       "  'RF_ec-EP_ec-DR_ec-FI_ec-TC_ec': <climada.engine.impact.Impact at 0x196fbeb90>,\n",
       "  'RF_ec-EP_ec-HW_ec-FI_ec-TC_ec': <climada.engine.impact.Impact at 0x196ffc110>,\n",
       "  'RF_ec-DR_ec-HW_ec-FI_ec-TC_ec': <climada.engine.impact.Impact at 0x1a043cb50>,\n",
       "  'EP_ec-DR_ec-HW_ec-FI_ec-TC_ec': <climada.engine.impact.Impact at 0x1a050c150>,\n",
       "  'RF_ec-EP_ec-DR_ec-HW_ec-FI_ec-TC_ec': <climada.engine.impact.Impact at 0x196ffcc90>}}"
      ]
     },
     "execution_count": 12,
     "metadata": {},
     "output_type": "execute_result"
    }
   ],
   "source": [
    "imp_combined"
   ]
  },
  {
   "cell_type": "code",
   "execution_count": 13,
   "id": "ff8f5185-a820-444a-a839-c6e5143626b1",
   "metadata": {},
   "outputs": [
    {
     "data": {
      "text/plain": [
       "228"
      ]
     },
     "execution_count": 13,
     "metadata": {},
     "output_type": "execute_result"
    }
   ],
   "source": [
    "len(imp_combined[age]['TC_ec'].date)"
   ]
  }
 ],
 "metadata": {
  "kernelspec": {
   "display_name": "Python 3 (ipykernel)",
   "language": "python",
   "name": "python3"
  },
  "language_info": {
   "codemirror_mode": {
    "name": "ipython",
    "version": 3
   },
   "file_extension": ".py",
   "mimetype": "text/x-python",
   "name": "python",
   "nbconvert_exporter": "python",
   "pygments_lexer": "ipython3",
   "version": "3.11.6"
  }
 },
 "nbformat": 4,
 "nbformat_minor": 5
}
