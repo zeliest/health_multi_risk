{
 "cells": [
  {
   "cell_type": "code",
   "execution_count": 38,
   "id": "6723b3fb-7820-4294-a83c-d56440436e34",
   "metadata": {},
   "outputs": [],
   "source": [
    "# this notebook does the same as the one titled \"multi_risk\", but with exposure constant at 2003 levels."
   ]
  },
  {
   "cell_type": "code",
   "execution_count": 39,
   "id": "5ccbd6ff-f9e8-4906-a018-1d18f62f08ba",
   "metadata": {},
   "outputs": [],
   "source": [
    " from climada.engine import Impact"
   ]
  },
  {
   "cell_type": "code",
   "execution_count": 40,
   "id": "e6fc61c9-6221-4d92-9b6e-9188e7ba32f6",
   "metadata": {},
   "outputs": [],
   "source": [
    "from pathlib import Path\n",
    "from calculate_exposure_to_haz import *"
   ]
  },
  {
   "cell_type": "code",
   "execution_count": 41,
   "id": "a21d8b40-89ea-4057-9fb4-6c4537120de1",
   "metadata": {},
   "outputs": [
    {
     "data": {
      "text/plain": [
       "<242x1038240 sparse matrix of type '<class 'numpy.float64'>'\n",
       "\twith 17441690 stored elements in Compressed Sparse Row format>"
      ]
     },
     "execution_count": 41,
     "metadata": {},
     "output_type": "execute_result"
    }
   ],
   "source": [
    "imp_dict[age]['RF_ec'].imp_mat"
   ]
  },
  {
   "cell_type": "code",
   "execution_count": 42,
   "id": "ea11e524-3ad6-446b-82e3-9d83b15c9965",
   "metadata": {},
   "outputs": [
    {
     "name": "stderr",
     "output_type": "stream",
     "text": [
      "/Users/szelie/python_projects/climada_python/climada/engine/impact.py:1081: DtypeWarning: Columns (0,1,5,8,13) have mixed types. Specify dtype option on import or set low_memory=False.\n",
      "  imp_df = pd.read_csv(file_name)\n"
     ]
    },
    {
     "name": "stdout",
     "output_type": "stream",
     "text": [
      "2024-08-22 12:58:43,219 - climada.engine.impact - WARNING - The Impact.tot_value attribute is deprecated.Use Exposures.affected_total_value to calculate the affected total exposure value based on a specific hazard intensity threshold\n"
     ]
    },
    {
     "name": "stderr",
     "output_type": "stream",
     "text": [
      "/Users/szelie/python_projects/climada_python/climada/engine/impact.py:1081: DtypeWarning: Columns (0,1,5,8,13) have mixed types. Specify dtype option on import or set low_memory=False.\n",
      "  imp_df = pd.read_csv(file_name)\n"
     ]
    },
    {
     "name": "stdout",
     "output_type": "stream",
     "text": [
      "2024-08-22 12:58:44,691 - climada.engine.impact - WARNING - The Impact.tot_value attribute is deprecated.Use Exposures.affected_total_value to calculate the affected total exposure value based on a specific hazard intensity threshold\n"
     ]
    },
    {
     "name": "stderr",
     "output_type": "stream",
     "text": [
      "/Users/szelie/python_projects/climada_python/climada/engine/impact.py:1081: DtypeWarning: Columns (0,1,5,8,13) have mixed types. Specify dtype option on import or set low_memory=False.\n",
      "  imp_df = pd.read_csv(file_name)\n"
     ]
    },
    {
     "name": "stdout",
     "output_type": "stream",
     "text": [
      "2024-08-22 12:58:45,618 - climada.engine.impact - WARNING - The Impact.tot_value attribute is deprecated.Use Exposures.affected_total_value to calculate the affected total exposure value based on a specific hazard intensity threshold\n"
     ]
    },
    {
     "name": "stderr",
     "output_type": "stream",
     "text": [
      "/Users/szelie/python_projects/climada_python/climada/engine/impact.py:1081: DtypeWarning: Columns (0,1,8,13) have mixed types. Specify dtype option on import or set low_memory=False.\n",
      "  imp_df = pd.read_csv(file_name)\n"
     ]
    },
    {
     "name": "stdout",
     "output_type": "stream",
     "text": [
      "2024-08-22 12:58:46,498 - climada.engine.impact - WARNING - The Impact.tot_value attribute is deprecated.Use Exposures.affected_total_value to calculate the affected total exposure value based on a specific hazard intensity threshold\n",
      "2024-08-22 12:58:47,222 - climada.engine.impact - WARNING - The Impact.tot_value attribute is deprecated.Use Exposures.affected_total_value to calculate the affected total exposure value based on a specific hazard intensity threshold\n"
     ]
    },
    {
     "name": "stderr",
     "output_type": "stream",
     "text": [
      "/Users/szelie/python_projects/climada_python/climada/engine/impact.py:1081: DtypeWarning: Columns (0,1,5,8,13) have mixed types. Specify dtype option on import or set low_memory=False.\n",
      "  imp_df = pd.read_csv(file_name)\n"
     ]
    },
    {
     "name": "stdout",
     "output_type": "stream",
     "text": [
      "2024-08-22 12:58:47,818 - climada.engine.impact - WARNING - The Impact.tot_value attribute is deprecated.Use Exposures.affected_total_value to calculate the affected total exposure value based on a specific hazard intensity threshold\n"
     ]
    },
    {
     "name": "stderr",
     "output_type": "stream",
     "text": [
      "/Users/szelie/python_projects/climada_python/climada/engine/impact.py:1081: DtypeWarning: Columns (1,5,8,13) have mixed types. Specify dtype option on import or set low_memory=False.\n",
      "  imp_df = pd.read_csv(file_name)\n"
     ]
    },
    {
     "name": "stdout",
     "output_type": "stream",
     "text": [
      "2024-08-22 12:58:48,450 - climada.engine.impact - WARNING - The Impact.tot_value attribute is deprecated.Use Exposures.affected_total_value to calculate the affected total exposure value based on a specific hazard intensity threshold\n"
     ]
    },
    {
     "name": "stderr",
     "output_type": "stream",
     "text": [
      "/Users/szelie/python_projects/climada_python/climada/engine/impact.py:1081: DtypeWarning: Columns (0,1,5,8,13) have mixed types. Specify dtype option on import or set low_memory=False.\n",
      "  imp_df = pd.read_csv(file_name)\n"
     ]
    },
    {
     "name": "stdout",
     "output_type": "stream",
     "text": [
      "2024-08-22 12:58:49,296 - climada.engine.impact - WARNING - The Impact.tot_value attribute is deprecated.Use Exposures.affected_total_value to calculate the affected total exposure value based on a specific hazard intensity threshold\n"
     ]
    },
    {
     "name": "stderr",
     "output_type": "stream",
     "text": [
      "/Users/szelie/python_projects/climada_python/climada/engine/impact.py:1081: DtypeWarning: Columns (0,1,5,8,13) have mixed types. Specify dtype option on import or set low_memory=False.\n",
      "  imp_df = pd.read_csv(file_name)\n"
     ]
    },
    {
     "name": "stdout",
     "output_type": "stream",
     "text": [
      "2024-08-22 12:58:50,077 - climada.engine.impact - WARNING - The Impact.tot_value attribute is deprecated.Use Exposures.affected_total_value to calculate the affected total exposure value based on a specific hazard intensity threshold\n"
     ]
    },
    {
     "name": "stderr",
     "output_type": "stream",
     "text": [
      "/Users/szelie/python_projects/climada_python/climada/engine/impact.py:1081: DtypeWarning: Columns (0,1,5,8,13) have mixed types. Specify dtype option on import or set low_memory=False.\n",
      "  imp_df = pd.read_csv(file_name)\n"
     ]
    },
    {
     "name": "stdout",
     "output_type": "stream",
     "text": [
      "2024-08-22 12:58:50,925 - climada.engine.impact - WARNING - The Impact.tot_value attribute is deprecated.Use Exposures.affected_total_value to calculate the affected total exposure value based on a specific hazard intensity threshold\n"
     ]
    },
    {
     "name": "stderr",
     "output_type": "stream",
     "text": [
      "/Users/szelie/python_projects/climada_python/climada/engine/impact.py:1081: DtypeWarning: Columns (0,1,8,13) have mixed types. Specify dtype option on import or set low_memory=False.\n",
      "  imp_df = pd.read_csv(file_name)\n",
      "/Users/szelie/python_projects/climada_python/climada/engine/impact.py:1081: DtypeWarning: Columns (0,1,5,8,13) have mixed types. Specify dtype option on import or set low_memory=False.\n",
      "  imp_df = pd.read_csv(file_name)\n"
     ]
    },
    {
     "name": "stdout",
     "output_type": "stream",
     "text": [
      "2024-08-22 12:58:53,229 - climada.engine.impact - WARNING - The Impact.tot_value attribute is deprecated.Use Exposures.affected_total_value to calculate the affected total exposure value based on a specific hazard intensity threshold\n"
     ]
    },
    {
     "name": "stderr",
     "output_type": "stream",
     "text": [
      "/Users/szelie/python_projects/climada_python/climada/engine/impact.py:1081: DtypeWarning: Columns (1,5,8,13) have mixed types. Specify dtype option on import or set low_memory=False.\n",
      "  imp_df = pd.read_csv(file_name)\n"
     ]
    },
    {
     "name": "stdout",
     "output_type": "stream",
     "text": [
      "2024-08-22 12:58:56,308 - climada.engine.impact - WARNING - The Impact.tot_value attribute is deprecated.Use Exposures.affected_total_value to calculate the affected total exposure value based on a specific hazard intensity threshold\n",
      "2024-08-22 12:58:56,978 - climada.engine.impact - WARNING - The Impact.tot_value attribute is deprecated.Use Exposures.affected_total_value to calculate the affected total exposure value based on a specific hazard intensity threshold\n"
     ]
    },
    {
     "name": "stderr",
     "output_type": "stream",
     "text": [
      "/Users/szelie/python_projects/climada_python/climada/engine/impact.py:1081: DtypeWarning: Columns (0,1,5,8,13) have mixed types. Specify dtype option on import or set low_memory=False.\n",
      "  imp_df = pd.read_csv(file_name)\n",
      "/Users/szelie/python_projects/climada_python/climada/engine/impact.py:1081: DtypeWarning: Columns (0,1,5,8,13) have mixed types. Specify dtype option on import or set low_memory=False.\n",
      "  imp_df = pd.read_csv(file_name)\n"
     ]
    },
    {
     "name": "stdout",
     "output_type": "stream",
     "text": [
      "2024-08-22 12:59:00,365 - climada.engine.impact - WARNING - The Impact.tot_value attribute is deprecated.Use Exposures.affected_total_value to calculate the affected total exposure value based on a specific hazard intensity threshold\n",
      "2024-08-22 12:59:00,994 - climada.engine.impact - WARNING - The Impact.tot_value attribute is deprecated.Use Exposures.affected_total_value to calculate the affected total exposure value based on a specific hazard intensity threshold\n"
     ]
    },
    {
     "name": "stderr",
     "output_type": "stream",
     "text": [
      "/Users/szelie/python_projects/climada_python/climada/engine/impact.py:1081: DtypeWarning: Columns (0,1,5,8,13) have mixed types. Specify dtype option on import or set low_memory=False.\n",
      "  imp_df = pd.read_csv(file_name)\n",
      "/Users/szelie/python_projects/climada_python/climada/engine/impact.py:1081: DtypeWarning: Columns (0,1,8,13) have mixed types. Specify dtype option on import or set low_memory=False.\n",
      "  imp_df = pd.read_csv(file_name)\n"
     ]
    },
    {
     "name": "stdout",
     "output_type": "stream",
     "text": [
      "2024-08-22 12:59:06,301 - climada.engine.impact - WARNING - The Impact.tot_value attribute is deprecated.Use Exposures.affected_total_value to calculate the affected total exposure value based on a specific hazard intensity threshold\n"
     ]
    },
    {
     "name": "stderr",
     "output_type": "stream",
     "text": [
      "/Users/szelie/python_projects/climada_python/climada/engine/impact.py:1081: DtypeWarning: Columns (0,1,5,8,13) have mixed types. Specify dtype option on import or set low_memory=False.\n",
      "  imp_df = pd.read_csv(file_name)\n"
     ]
    },
    {
     "name": "stdout",
     "output_type": "stream",
     "text": [
      "2024-08-22 12:59:12,492 - climada.engine.impact - WARNING - The Impact.tot_value attribute is deprecated.Use Exposures.affected_total_value to calculate the affected total exposure value based on a specific hazard intensity threshold\n"
     ]
    },
    {
     "name": "stderr",
     "output_type": "stream",
     "text": [
      "/Users/szelie/python_projects/climada_python/climada/engine/impact.py:1081: DtypeWarning: Columns (1,5,8,13) have mixed types. Specify dtype option on import or set low_memory=False.\n",
      "  imp_df = pd.read_csv(file_name)\n"
     ]
    },
    {
     "name": "stdout",
     "output_type": "stream",
     "text": [
      "2024-08-22 12:59:30,724 - climada.engine.impact - WARNING - The Impact.tot_value attribute is deprecated.Use Exposures.affected_total_value to calculate the affected total exposure value based on a specific hazard intensity threshold\n"
     ]
    }
   ],
   "source": [
    "ages = ['all','0_1','65_70_75_80']\n",
    "imp_dict = {}\n",
    "for age in ages:\n",
    "    imp_dict[age] = {}\n",
    "    for hazard_type in ['RF_ec','EP_ec','DR_ec','HW_ec','FI_ec', 'TC_ec']:\n",
    "        imp_dict[age][hazard_type] = read_impact(hazard_type, age)\n",
    "    imp_dict[age]['HW_ec'].date = imp_dict[age]['FI_ec'].date #to fix, some dates were a bit strange so we make sure we get the same for all\n",
    "    imp_dict[age]['EP_ec'].date = imp_dict[age]['FI_ec'].date #to fix"
   ]
  },
  {
   "cell_type": "code",
   "execution_count": 43,
   "id": "5aaa29d7-87ee-4e42-9987-a839d2c9d906",
   "metadata": {},
   "outputs": [],
   "source": [
    "from multi_risk_methods import upscale_dates, aggregate_events,calculate_combinations_dict\n"
   ]
  },
  {
   "cell_type": "code",
   "execution_count": 44,
   "id": "28dae8fc-677c-4f88-b3a4-cc523fae054d",
   "metadata": {
    "scrolled": true
   },
   "outputs": [],
   "source": [
    "imp_dict_aggr = {}\n",
    "for age in ages:#['all','0_1','65_70_75_80']:\n",
    "    imp_dict_aggr[age] = {impact: upscale_dates(imp_dict[age][impact], by='month') for impact in imp_dict[age]}\n",
    "    imp_dict_aggr[age] = {impact: aggregate_events(imp_dict_aggr[age][impact], how='max') for impact in imp_dict[age]}\n",
    "    #imp_dict= multi_risk.fill_impact_gaps(imp_dict)"
   ]
  },
  {
   "cell_type": "code",
   "execution_count": 45,
   "id": "17f70464-39c0-4a75-9c0b-5ef9fe03e6f5",
   "metadata": {},
   "outputs": [],
   "source": [
    "for age in ages:#['all','0_1','65_70_75_80']:\n",
    "    for hazard_type in imp_dict_aggr[age]:\n",
    "        ids = imp_dict_aggr[age][hazard_type].event_id[0:228]\n",
    "        imp_dict_aggr[age][hazard_type] = imp_dict_aggr[age][hazard_type].select(event_ids=ids)\n",
    "        imp_dict_aggr[age][hazard_type].date = imp_dict_aggr[age]['RF_ec'].date"
   ]
  },
  {
   "cell_type": "code",
   "execution_count": 46,
   "id": "3f508f12-48b8-4b0a-a03b-d2bcbe4d1833",
   "metadata": {},
   "outputs": [],
   "source": [
    "import pandas as pd"
   ]
  },
  {
   "cell_type": "code",
   "execution_count": 47,
   "id": "1e8aea52-39b8-4e6b-9cad-dc782a7ef735",
   "metadata": {},
   "outputs": [],
   "source": [
    "import itertools\n",
    "combinations = []\n",
    "for r in range(1, len(list(imp_dict_aggr[age].keys())) + 1):\n",
    "    combinations.extend(list(itertools.combinations(list(imp_dict_aggr[age].keys()), r)))\n",
    "\n",
    "combinations = [t for t in combinations if len(set(inner_t[0] for inner_t in t)) == 1]\n"
   ]
  },
  {
   "cell_type": "code",
   "execution_count": 48,
   "id": "87729038-5a1e-433f-bfc5-3af29e44b9f9",
   "metadata": {
    "scrolled": true,
    "tags": []
   },
   "outputs": [],
   "source": [
    "imp_combined= {}\n",
    "for age in imp_dict_aggr:\n",
    "    imp_combined[age] = calculate_combinations_dict(imp_dict_aggr[age], how='min', by='date', exp=None, combination_type='all')"
   ]
  },
  {
   "cell_type": "code",
   "execution_count": 52,
   "id": "ac2cfb07-6788-4fbf-9602-d07bd884d1c0",
   "metadata": {},
   "outputs": [],
   "source": [
    "for age in imp_combined:\n",
    "    for combi in imp_combined[age]:\n",
    "        write_impact(imp_combined[age][combi], f\"{combi}\", age)"
   ]
  },
  {
   "cell_type": "code",
   "execution_count": 50,
   "id": "706000a2-19af-4ec4-a55c-bc3fb48c8964",
   "metadata": {},
   "outputs": [
    {
     "data": {
      "text/plain": [
       "{'all': {'RF_ec': <climada.engine.impact.Impact at 0x1972cbc50>,\n",
       "  'EP_ec': <climada.engine.impact.Impact at 0x1954c2290>,\n",
       "  'DR_ec': <climada.engine.impact.Impact at 0x197f80310>,\n",
       "  'HW_ec': <climada.engine.impact.Impact at 0x19fb693d0>,\n",
       "  'FI_ec': <climada.engine.impact.Impact at 0x1962d3650>,\n",
       "  'TC_ec': <climada.engine.impact.Impact at 0x196314990>,\n",
       "  'RF_ec-EP_ec': <climada.engine.impact.Impact at 0x19f767e50>,\n",
       "  'RF_ec-DR_ec': <climada.engine.impact.Impact at 0x196315590>,\n",
       "  'RF_ec-HW_ec': <climada.engine.impact.Impact at 0x1962ce910>,\n",
       "  'RF_ec-FI_ec': <climada.engine.impact.Impact at 0x19fb977d0>,\n",
       "  'RF_ec-TC_ec': <climada.engine.impact.Impact at 0x19fb97590>,\n",
       "  'EP_ec-DR_ec': <climada.engine.impact.Impact at 0x19fab6f50>,\n",
       "  'EP_ec-HW_ec': <climada.engine.impact.Impact at 0x19fb14850>,\n",
       "  'EP_ec-FI_ec': <climada.engine.impact.Impact at 0x19fb14e90>,\n",
       "  'EP_ec-TC_ec': <climada.engine.impact.Impact at 0x19fb144d0>,\n",
       "  'DR_ec-HW_ec': <climada.engine.impact.Impact at 0x19fb16610>,\n",
       "  'DR_ec-FI_ec': <climada.engine.impact.Impact at 0x1962d1390>,\n",
       "  'DR_ec-TC_ec': <climada.engine.impact.Impact at 0x19facaf90>,\n",
       "  'HW_ec-FI_ec': <climada.engine.impact.Impact at 0x1962d1bd0>,\n",
       "  'HW_ec-TC_ec': <climada.engine.impact.Impact at 0x1962d2750>,\n",
       "  'FI_ec-TC_ec': <climada.engine.impact.Impact at 0x19fac9a10>,\n",
       "  'RF_ec-EP_ec-DR_ec': <climada.engine.impact.Impact at 0x19fb6b7d0>,\n",
       "  'RF_ec-EP_ec-HW_ec': <climada.engine.impact.Impact at 0x197f7e050>,\n",
       "  'RF_ec-EP_ec-FI_ec': <climada.engine.impact.Impact at 0x1972bb6d0>,\n",
       "  'RF_ec-EP_ec-TC_ec': <climada.engine.impact.Impact at 0x19fac9b90>,\n",
       "  'RF_ec-DR_ec-HW_ec': <climada.engine.impact.Impact at 0x19faca150>,\n",
       "  'RF_ec-DR_ec-FI_ec': <climada.engine.impact.Impact at 0x197f59850>,\n",
       "  'RF_ec-DR_ec-TC_ec': <climada.engine.impact.Impact at 0x19facba90>,\n",
       "  'RF_ec-HW_ec-FI_ec': <climada.engine.impact.Impact at 0x19f81d310>,\n",
       "  'RF_ec-HW_ec-TC_ec': <climada.engine.impact.Impact at 0x19fabaf50>,\n",
       "  'RF_ec-FI_ec-TC_ec': <climada.engine.impact.Impact at 0x19639a790>,\n",
       "  'EP_ec-DR_ec-HW_ec': <climada.engine.impact.Impact at 0x19335de90>,\n",
       "  'EP_ec-DR_ec-FI_ec': <climada.engine.impact.Impact at 0x19f768f10>,\n",
       "  'EP_ec-DR_ec-TC_ec': <climada.engine.impact.Impact at 0x19fb16d50>,\n",
       "  'EP_ec-HW_ec-FI_ec': <climada.engine.impact.Impact at 0x1962cf090>,\n",
       "  'EP_ec-HW_ec-TC_ec': <climada.engine.impact.Impact at 0x197f97610>,\n",
       "  'EP_ec-FI_ec-TC_ec': <climada.engine.impact.Impact at 0x19f769f50>,\n",
       "  'DR_ec-HW_ec-FI_ec': <climada.engine.impact.Impact at 0x19fb96cd0>,\n",
       "  'DR_ec-HW_ec-TC_ec': <climada.engine.impact.Impact at 0x196320a10>,\n",
       "  'DR_ec-FI_ec-TC_ec': <climada.engine.impact.Impact at 0x1962cfe10>,\n",
       "  'HW_ec-FI_ec-TC_ec': <climada.engine.impact.Impact at 0x19fb967d0>,\n",
       "  'RF_ec-EP_ec-DR_ec-HW_ec': <climada.engine.impact.Impact at 0x19fb69ed0>,\n",
       "  'RF_ec-EP_ec-DR_ec-FI_ec': <climada.engine.impact.Impact at 0x19f81e890>,\n",
       "  'RF_ec-EP_ec-DR_ec-TC_ec': <climada.engine.impact.Impact at 0x162914690>,\n",
       "  'RF_ec-EP_ec-HW_ec-FI_ec': <climada.engine.impact.Impact at 0x19fb14550>,\n",
       "  'RF_ec-EP_ec-HW_ec-TC_ec': <climada.engine.impact.Impact at 0x1962d1d10>,\n",
       "  'RF_ec-EP_ec-FI_ec-TC_ec': <climada.engine.impact.Impact at 0x19fb945d0>,\n",
       "  'RF_ec-DR_ec-HW_ec-FI_ec': <climada.engine.impact.Impact at 0x19fab46d0>,\n",
       "  'RF_ec-DR_ec-HW_ec-TC_ec': <climada.engine.impact.Impact at 0x19f81cb10>,\n",
       "  'RF_ec-DR_ec-FI_ec-TC_ec': <climada.engine.impact.Impact at 0x197f94f50>,\n",
       "  'RF_ec-HW_ec-FI_ec-TC_ec': <climada.engine.impact.Impact at 0x19fb14710>,\n",
       "  'EP_ec-DR_ec-HW_ec-FI_ec': <climada.engine.impact.Impact at 0x19736ca90>,\n",
       "  'EP_ec-DR_ec-HW_ec-TC_ec': <climada.engine.impact.Impact at 0x197f94950>,\n",
       "  'EP_ec-DR_ec-FI_ec-TC_ec': <climada.engine.impact.Impact at 0x197f9d690>,\n",
       "  'EP_ec-HW_ec-FI_ec-TC_ec': <climada.engine.impact.Impact at 0x19736cd90>,\n",
       "  'DR_ec-HW_ec-FI_ec-TC_ec': <climada.engine.impact.Impact at 0x193f05650>,\n",
       "  'RF_ec-EP_ec-DR_ec-HW_ec-FI_ec': <climada.engine.impact.Impact at 0x196314790>,\n",
       "  'RF_ec-EP_ec-DR_ec-HW_ec-TC_ec': <climada.engine.impact.Impact at 0x19fab56d0>,\n",
       "  'RF_ec-EP_ec-DR_ec-FI_ec-TC_ec': <climada.engine.impact.Impact at 0x19fb68210>,\n",
       "  'RF_ec-EP_ec-HW_ec-FI_ec-TC_ec': <climada.engine.impact.Impact at 0x197f9c1d0>,\n",
       "  'RF_ec-DR_ec-HW_ec-FI_ec-TC_ec': <climada.engine.impact.Impact at 0x1972cc510>,\n",
       "  'EP_ec-DR_ec-HW_ec-FI_ec-TC_ec': <climada.engine.impact.Impact at 0x1962ee390>,\n",
       "  'RF_ec-EP_ec-DR_ec-HW_ec-FI_ec-TC_ec': <climada.engine.impact.Impact at 0x1962eec90>},\n",
       " '0_1': {'RF_ec': <climada.engine.impact.Impact at 0x19fb96450>,\n",
       "  'EP_ec': <climada.engine.impact.Impact at 0x19355fd50>,\n",
       "  'DR_ec': <climada.engine.impact.Impact at 0x19fab4610>,\n",
       "  'HW_ec': <climada.engine.impact.Impact at 0x1a0475050>,\n",
       "  'FI_ec': <climada.engine.impact.Impact at 0x1a04749d0>,\n",
       "  'TC_ec': <climada.engine.impact.Impact at 0x1a0474710>,\n",
       "  'RF_ec-EP_ec': <climada.engine.impact.Impact at 0x19f81e2d0>,\n",
       "  'RF_ec-DR_ec': <climada.engine.impact.Impact at 0x1a04770d0>,\n",
       "  'RF_ec-HW_ec': <climada.engine.impact.Impact at 0x1a0476750>,\n",
       "  'RF_ec-FI_ec': <climada.engine.impact.Impact at 0x19fb15c90>,\n",
       "  'RF_ec-TC_ec': <climada.engine.impact.Impact at 0x19fb17490>,\n",
       "  'EP_ec-DR_ec': <climada.engine.impact.Impact at 0x1a0476550>,\n",
       "  'EP_ec-HW_ec': <climada.engine.impact.Impact at 0x1972d6450>,\n",
       "  'EP_ec-FI_ec': <climada.engine.impact.Impact at 0x19736c410>,\n",
       "  'EP_ec-TC_ec': <climada.engine.impact.Impact at 0x1a0474bd0>,\n",
       "  'DR_ec-HW_ec': <climada.engine.impact.Impact at 0x1a0474590>,\n",
       "  'DR_ec-FI_ec': <climada.engine.impact.Impact at 0x1a0475a90>,\n",
       "  'DR_ec-TC_ec': <climada.engine.impact.Impact at 0x19f7a5b10>,\n",
       "  'HW_ec-FI_ec': <climada.engine.impact.Impact at 0x1a0405e90>,\n",
       "  'HW_ec-TC_ec': <climada.engine.impact.Impact at 0x1a0476190>,\n",
       "  'FI_ec-TC_ec': <climada.engine.impact.Impact at 0x1a0477c50>,\n",
       "  'RF_ec-EP_ec-DR_ec': <climada.engine.impact.Impact at 0x1a0477610>,\n",
       "  'RF_ec-EP_ec-HW_ec': <climada.engine.impact.Impact at 0x1a0477a90>,\n",
       "  'RF_ec-EP_ec-FI_ec': <climada.engine.impact.Impact at 0x19fb96210>,\n",
       "  'RF_ec-EP_ec-TC_ec': <climada.engine.impact.Impact at 0x19fab7a50>,\n",
       "  'RF_ec-DR_ec-HW_ec': <climada.engine.impact.Impact at 0x1a0477950>,\n",
       "  'RF_ec-DR_ec-FI_ec': <climada.engine.impact.Impact at 0x197f94a10>,\n",
       "  'RF_ec-DR_ec-TC_ec': <climada.engine.impact.Impact at 0x19417d810>,\n",
       "  'RF_ec-HW_ec-FI_ec': <climada.engine.impact.Impact at 0x1a04760d0>,\n",
       "  'RF_ec-HW_ec-TC_ec': <climada.engine.impact.Impact at 0x19f81dd90>,\n",
       "  'RF_ec-FI_ec-TC_ec': <climada.engine.impact.Impact at 0x1935b4fd0>,\n",
       "  'EP_ec-DR_ec-HW_ec': <climada.engine.impact.Impact at 0x19f7a5690>,\n",
       "  'EP_ec-DR_ec-FI_ec': <climada.engine.impact.Impact at 0x1a0475790>,\n",
       "  'EP_ec-DR_ec-TC_ec': <climada.engine.impact.Impact at 0x1a0476e50>,\n",
       "  'EP_ec-HW_ec-FI_ec': <climada.engine.impact.Impact at 0x19fb14190>,\n",
       "  'EP_ec-HW_ec-TC_ec': <climada.engine.impact.Impact at 0x19355e610>,\n",
       "  'EP_ec-FI_ec-TC_ec': <climada.engine.impact.Impact at 0x19fb14dd0>,\n",
       "  'DR_ec-HW_ec-FI_ec': <climada.engine.impact.Impact at 0x1a0477d10>,\n",
       "  'DR_ec-HW_ec-TC_ec': <climada.engine.impact.Impact at 0x19fb17ed0>,\n",
       "  'DR_ec-FI_ec-TC_ec': <climada.engine.impact.Impact at 0x1a0477c10>,\n",
       "  'HW_ec-FI_ec-TC_ec': <climada.engine.impact.Impact at 0x197f95750>,\n",
       "  'RF_ec-EP_ec-DR_ec-HW_ec': <climada.engine.impact.Impact at 0x1a0474850>,\n",
       "  'RF_ec-EP_ec-DR_ec-FI_ec': <climada.engine.impact.Impact at 0x1a0407a50>,\n",
       "  'RF_ec-EP_ec-DR_ec-TC_ec': <climada.engine.impact.Impact at 0x1a0475950>,\n",
       "  'RF_ec-EP_ec-HW_ec-FI_ec': <climada.engine.impact.Impact at 0x1962edd90>,\n",
       "  'RF_ec-EP_ec-HW_ec-TC_ec': <climada.engine.impact.Impact at 0x1a0407f50>,\n",
       "  'RF_ec-EP_ec-FI_ec-TC_ec': <climada.engine.impact.Impact at 0x19facaf10>,\n",
       "  'RF_ec-DR_ec-HW_ec-FI_ec': <climada.engine.impact.Impact at 0x19639b050>,\n",
       "  'RF_ec-DR_ec-HW_ec-TC_ec': <climada.engine.impact.Impact at 0x1972b8290>,\n",
       "  'RF_ec-DR_ec-FI_ec-TC_ec': <climada.engine.impact.Impact at 0x197f94cd0>,\n",
       "  'RF_ec-HW_ec-FI_ec-TC_ec': <climada.engine.impact.Impact at 0x1942c9c10>,\n",
       "  'EP_ec-DR_ec-HW_ec-FI_ec': <climada.engine.impact.Impact at 0x1942f95d0>,\n",
       "  'EP_ec-DR_ec-HW_ec-TC_ec': <climada.engine.impact.Impact at 0x1a0406d50>,\n",
       "  'EP_ec-DR_ec-FI_ec-TC_ec': <climada.engine.impact.Impact at 0x19fb17c50>,\n",
       "  'EP_ec-HW_ec-FI_ec-TC_ec': <climada.engine.impact.Impact at 0x1942e9510>,\n",
       "  'DR_ec-HW_ec-FI_ec-TC_ec': <climada.engine.impact.Impact at 0x19faca750>,\n",
       "  'RF_ec-EP_ec-DR_ec-HW_ec-FI_ec': <climada.engine.impact.Impact at 0x19fac8350>,\n",
       "  'RF_ec-EP_ec-DR_ec-HW_ec-TC_ec': <climada.engine.impact.Impact at 0x197f61fd0>,\n",
       "  'RF_ec-EP_ec-DR_ec-FI_ec-TC_ec': <climada.engine.impact.Impact at 0x197f8a1d0>,\n",
       "  'RF_ec-EP_ec-HW_ec-FI_ec-TC_ec': <climada.engine.impact.Impact at 0x1973124d0>,\n",
       "  'RF_ec-DR_ec-HW_ec-FI_ec-TC_ec': <climada.engine.impact.Impact at 0x10d4d2410>,\n",
       "  'EP_ec-DR_ec-HW_ec-FI_ec-TC_ec': <climada.engine.impact.Impact at 0x19fac9690>,\n",
       "  'RF_ec-EP_ec-DR_ec-HW_ec-FI_ec-TC_ec': <climada.engine.impact.Impact at 0x196c33f10>},\n",
       " '65_70_75_80': {'RF_ec': <climada.engine.impact.Impact at 0x197f80710>,\n",
       "  'EP_ec': <climada.engine.impact.Impact at 0x19f769010>,\n",
       "  'DR_ec': <climada.engine.impact.Impact at 0x192af3b50>,\n",
       "  'HW_ec': <climada.engine.impact.Impact at 0x19fb684d0>,\n",
       "  'FI_ec': <climada.engine.impact.Impact at 0x19f81d690>,\n",
       "  'TC_ec': <climada.engine.impact.Impact at 0x19fb6bc10>,\n",
       "  'RF_ec-EP_ec': <climada.engine.impact.Impact at 0x19fb68390>,\n",
       "  'RF_ec-DR_ec': <climada.engine.impact.Impact at 0x19fabba90>,\n",
       "  'RF_ec-HW_ec': <climada.engine.impact.Impact at 0x19f76aad0>,\n",
       "  'RF_ec-FI_ec': <climada.engine.impact.Impact at 0x19facb750>,\n",
       "  'RF_ec-TC_ec': <climada.engine.impact.Impact at 0x19fabb990>,\n",
       "  'EP_ec-DR_ec': <climada.engine.impact.Impact at 0x19fb6b950>,\n",
       "  'EP_ec-HW_ec': <climada.engine.impact.Impact at 0x19fb78850>,\n",
       "  'EP_ec-FI_ec': <climada.engine.impact.Impact at 0x19fb7ae10>,\n",
       "  'EP_ec-TC_ec': <climada.engine.impact.Impact at 0x19fb7b410>,\n",
       "  'DR_ec-HW_ec': <climada.engine.impact.Impact at 0x19fb7b550>,\n",
       "  'DR_ec-FI_ec': <climada.engine.impact.Impact at 0x19faca890>,\n",
       "  'DR_ec-TC_ec': <climada.engine.impact.Impact at 0x19fb79e90>,\n",
       "  'HW_ec-FI_ec': <climada.engine.impact.Impact at 0x19fb7a9d0>,\n",
       "  'HW_ec-TC_ec': <climada.engine.impact.Impact at 0x1962d0cd0>,\n",
       "  'FI_ec-TC_ec': <climada.engine.impact.Impact at 0x19fb78f90>,\n",
       "  'RF_ec-EP_ec-DR_ec': <climada.engine.impact.Impact at 0x19fb7a550>,\n",
       "  'RF_ec-EP_ec-HW_ec': <climada.engine.impact.Impact at 0x192eb8190>,\n",
       "  'RF_ec-EP_ec-FI_ec': <climada.engine.impact.Impact at 0x19fb7afd0>,\n",
       "  'RF_ec-EP_ec-TC_ec': <climada.engine.impact.Impact at 0x19f768490>,\n",
       "  'RF_ec-DR_ec-HW_ec': <climada.engine.impact.Impact at 0x19fb78990>,\n",
       "  'RF_ec-DR_ec-FI_ec': <climada.engine.impact.Impact at 0x19fb78e10>,\n",
       "  'RF_ec-DR_ec-TC_ec': <climada.engine.impact.Impact at 0x19fabb710>,\n",
       "  'RF_ec-HW_ec-FI_ec': <climada.engine.impact.Impact at 0x19fb7b390>,\n",
       "  'RF_ec-HW_ec-TC_ec': <climada.engine.impact.Impact at 0x192b78910>,\n",
       "  'RF_ec-FI_ec-TC_ec': <climada.engine.impact.Impact at 0x19fb79450>,\n",
       "  'EP_ec-DR_ec-HW_ec': <climada.engine.impact.Impact at 0x19fb73350>,\n",
       "  'EP_ec-DR_ec-FI_ec': <climada.engine.impact.Impact at 0x19fb72410>,\n",
       "  'EP_ec-DR_ec-TC_ec': <climada.engine.impact.Impact at 0x19f769550>,\n",
       "  'EP_ec-HW_ec-FI_ec': <climada.engine.impact.Impact at 0x19fb719d0>,\n",
       "  'EP_ec-HW_ec-TC_ec': <climada.engine.impact.Impact at 0x1a0475650>,\n",
       "  'EP_ec-FI_ec-TC_ec': <climada.engine.impact.Impact at 0x19f81c210>,\n",
       "  'DR_ec-HW_ec-FI_ec': <climada.engine.impact.Impact at 0x1a0416250>,\n",
       "  'DR_ec-HW_ec-TC_ec': <climada.engine.impact.Impact at 0x19fb7a410>,\n",
       "  'DR_ec-FI_ec-TC_ec': <climada.engine.impact.Impact at 0x1a0405050>,\n",
       "  'HW_ec-FI_ec-TC_ec': <climada.engine.impact.Impact at 0x19fb71290>,\n",
       "  'RF_ec-EP_ec-DR_ec-HW_ec': <climada.engine.impact.Impact at 0x19fab9c90>,\n",
       "  'RF_ec-EP_ec-DR_ec-FI_ec': <climada.engine.impact.Impact at 0x19fb69190>,\n",
       "  'RF_ec-EP_ec-DR_ec-TC_ec': <climada.engine.impact.Impact at 0x19fb7ac50>,\n",
       "  'RF_ec-EP_ec-HW_ec-FI_ec': <climada.engine.impact.Impact at 0x19fb7a690>,\n",
       "  'RF_ec-EP_ec-HW_ec-TC_ec': <climada.engine.impact.Impact at 0x19fb6ba50>,\n",
       "  'RF_ec-EP_ec-FI_ec-TC_ec': <climada.engine.impact.Impact at 0x1962d2b50>,\n",
       "  'RF_ec-DR_ec-HW_ec-FI_ec': <climada.engine.impact.Impact at 0x1a0474c10>,\n",
       "  'RF_ec-DR_ec-HW_ec-TC_ec': <climada.engine.impact.Impact at 0x1a0405390>,\n",
       "  'RF_ec-DR_ec-FI_ec-TC_ec': <climada.engine.impact.Impact at 0x19fb79f50>,\n",
       "  'RF_ec-HW_ec-FI_ec-TC_ec': <climada.engine.impact.Impact at 0x19736c950>,\n",
       "  'EP_ec-DR_ec-HW_ec-FI_ec': <climada.engine.impact.Impact at 0x19f76b510>,\n",
       "  'EP_ec-DR_ec-HW_ec-TC_ec': <climada.engine.impact.Impact at 0x19fb71cd0>,\n",
       "  'EP_ec-DR_ec-FI_ec-TC_ec': <climada.engine.impact.Impact at 0x19faca7d0>,\n",
       "  'EP_ec-HW_ec-FI_ec-TC_ec': <climada.engine.impact.Impact at 0x19fb7af10>,\n",
       "  'DR_ec-HW_ec-FI_ec-TC_ec': <climada.engine.impact.Impact at 0x19facadd0>,\n",
       "  'RF_ec-EP_ec-DR_ec-HW_ec-FI_ec': <climada.engine.impact.Impact at 0x19f76b9d0>,\n",
       "  'RF_ec-EP_ec-DR_ec-HW_ec-TC_ec': <climada.engine.impact.Impact at 0x19fac1b50>,\n",
       "  'RF_ec-EP_ec-DR_ec-FI_ec-TC_ec': <climada.engine.impact.Impact at 0x1a0416e10>,\n",
       "  'RF_ec-EP_ec-HW_ec-FI_ec-TC_ec': <climada.engine.impact.Impact at 0x19fb7a710>,\n",
       "  'RF_ec-DR_ec-HW_ec-FI_ec-TC_ec': <climada.engine.impact.Impact at 0x19fb7bad0>,\n",
       "  'EP_ec-DR_ec-HW_ec-FI_ec-TC_ec': <climada.engine.impact.Impact at 0x19fb94c10>,\n",
       "  'RF_ec-EP_ec-DR_ec-HW_ec-FI_ec-TC_ec': <climada.engine.impact.Impact at 0x19fb7ab10>}}"
      ]
     },
     "execution_count": 50,
     "metadata": {},
     "output_type": "execute_result"
    }
   ],
   "source": [
    "imp_combined"
   ]
  },
  {
   "cell_type": "code",
   "execution_count": 51,
   "id": "ff8f5185-a820-444a-a839-c6e5143626b1",
   "metadata": {},
   "outputs": [
    {
     "data": {
      "text/plain": [
       "228"
      ]
     },
     "execution_count": 51,
     "metadata": {},
     "output_type": "execute_result"
    }
   ],
   "source": [
    "len(imp_combined[age]['TC_ec'].date)"
   ]
  }
 ],
 "metadata": {
  "kernelspec": {
   "display_name": "Python 3 (ipykernel)",
   "language": "python",
   "name": "python3"
  },
  "language_info": {
   "codemirror_mode": {
    "name": "ipython",
    "version": 3
   },
   "file_extension": ".py",
   "mimetype": "text/x-python",
   "name": "python",
   "nbconvert_exporter": "python",
   "pygments_lexer": "ipython3",
   "version": "3.11.6"
  }
 },
 "nbformat": 4,
 "nbformat_minor": 5
}
